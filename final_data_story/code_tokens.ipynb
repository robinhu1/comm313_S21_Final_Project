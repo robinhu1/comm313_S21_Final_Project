{
 "cells": [
  {
   "cell_type": "code",
   "execution_count": 1,
   "metadata": {},
   "outputs": [],
   "source": [
    "import os\n",
    "import json\n",
    "from collections import Counter\n",
    "import matplotlib.pyplot as plt\n",
    "import seaborn as sn\n",
    "import pandas as pd"
   ]
  },
  {
   "cell_type": "code",
   "execution_count": 2,
   "metadata": {},
   "outputs": [],
   "source": [
    "cd_doc = open('../data/text/china_daily/cd_composite_text.txt').read()\n",
    "nyt_doc = open('../data/text/nyt/nyt_composite_text.txt').read()\n",
    "g_doc = open('../data/text/guardian/g_composite_text.txt').read()\n",
    "dt_doc = open('../data/text/daily_telegraph/dt_composite_text.txt').read()\n",
    "ht_doc = open('../data/text/hindustan_times/ht_composite_text.txt').read()"
   ]
  },
  {
   "cell_type": "code",
   "execution_count": 3,
   "metadata": {},
   "outputs": [],
   "source": [
    "%run ../data_analysis/functions.ipynb"
   ]
  },
  {
   "cell_type": "code",
   "execution_count": 4,
   "metadata": {},
   "outputs": [],
   "source": [
    "characters_to_remove = '!,.()[]|\"'\n",
    "cd_comp_toks = tokenize(cd_doc, lowercase=True, strip_chars=characters_to_remove)\n",
    "nyt_comp_toks = tokenize(nyt_doc, lowercase=True, strip_chars=characters_to_remove)\n",
    "cd_dist = Counter(cd_comp_toks)\n",
    "nyt_dist= Counter(nyt_comp_toks)"
   ]
  },
  {
   "cell_type": "code",
   "execution_count": 5,
   "metadata": {},
   "outputs": [],
   "source": [
    "g_files = [f for f in os.listdir('../data/text/guardian') if f.startswith('the-guardian-') and f.endswith('.txt')]"
   ]
  },
  {
   "cell_type": "code",
   "execution_count": 6,
   "metadata": {},
   "outputs": [],
   "source": [
    "g_dist= Counter()\n",
    "\n",
    "for fname in g_files:\n",
    "    fpath = os.path.join('..','data','text', 'guardian', fname)\n",
    "    text = open(fpath).read()\n",
    "    tokens = tokenize(text, lowercase=True, strip_chars=characters_to_remove)\n",
    "    g_dist.update(tokens)"
   ]
  },
  {
   "cell_type": "code",
   "execution_count": 7,
   "metadata": {},
   "outputs": [],
   "source": [
    "dt_comp_toks = tokenize(dt_doc, lowercase=True, strip_chars=characters_to_remove)\n",
    "ht_comp_toks = tokenize(ht_doc, lowercase=True, strip_chars=characters_to_remove)\n",
    "dt_dist= Counter(dt_comp_toks)\n",
    "ht_dist= Counter(ht_comp_toks)"
   ]
  },
  {
   "cell_type": "code",
   "execution_count": 8,
   "metadata": {},
   "outputs": [],
   "source": [
    "cd_tok_cnt = sum(cd_dist.values())\n",
    "nyt_tok_cnt = sum(nyt_dist.values())\n",
    "dt_tok_cnt = sum(dt_dist.values())\n",
    "g_tok_cnt = sum(g_dist.values())\n",
    "ht_tok_cnt = sum(ht_dist.values())"
   ]
  },
  {
   "cell_type": "code",
   "execution_count": 9,
   "metadata": {},
   "outputs": [],
   "source": [
    "nyt_bigram_dist=Counter()\n",
    "nyt_trigram_dist=Counter()\n",
    "\n",
    "\n",
    "csize = len(nyt_comp_toks)\n",
    "chsize = int(csize/10)\n",
    "for cidx in range(0,csize,chsize):\n",
    "    ch_toks = nyt_comp_toks[cidx:cidx+chsize]\n",
    "    bigrams=get_ngram_tokens(ch_toks,2)\n",
    "    trigrams=get_ngram_tokens(ch_toks,3)\n",
    "    nyt_bigram_dist.update(bigrams)\n",
    "    nyt_trigram_dist.update(trigrams)"
   ]
  },
  {
   "cell_type": "code",
   "execution_count": 10,
   "metadata": {},
   "outputs": [],
   "source": [
    "cd_bigram_dist = Counter()\n",
    "cd_trigram_dist = Counter()\n",
    "\n",
    "csize = len(cd_comp_toks)\n",
    "chsize = int(csize/10)\n",
    "for cidx in range(0,csize,chsize):\n",
    "    ch_toks = cd_comp_toks[cidx:cidx+chsize]\n",
    "    bigrams=get_ngram_tokens(ch_toks,2)\n",
    "    trigrams=get_ngram_tokens(ch_toks,3)\n",
    "    cd_bigram_dist.update(bigrams)\n",
    "    cd_trigram_dist.update(trigrams)"
   ]
  }
 ],
 "metadata": {
  "kernelspec": {
   "display_name": "Python 3",
   "language": "python",
   "name": "python3"
  },
  "language_info": {
   "codemirror_mode": {
    "name": "ipython",
    "version": 3
   },
   "file_extension": ".py",
   "mimetype": "text/x-python",
   "name": "python",
   "nbconvert_exporter": "python",
   "pygments_lexer": "ipython3",
   "version": "3.7.3"
  }
 },
 "nbformat": 4,
 "nbformat_minor": 2
}
