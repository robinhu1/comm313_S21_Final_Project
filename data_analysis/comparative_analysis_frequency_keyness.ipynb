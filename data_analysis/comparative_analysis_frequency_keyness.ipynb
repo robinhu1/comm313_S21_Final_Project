{
 "cells": [
  {
   "cell_type": "markdown",
   "metadata": {},
   "source": [
    "## Comparative Analysis of All Five Sources"
   ]
  },
  {
   "cell_type": "markdown",
   "metadata": {},
   "source": [
    "In this notebook, I will be compiling the key data and observations from each of the individual sources and comparing the five. I will start with the normalized frequency counts of specific words. I'll then dive into some of the common KWIC contexts of words like \"origins\", \"conspiracy\", \"theory\" before then honing in on the key conspiracy theory words that are referenced in some but not all sources. Finally I will utilize a keyness score."
   ]
  },
  {
   "cell_type": "code",
   "execution_count": 1,
   "metadata": {},
   "outputs": [],
   "source": [
    "import os\n",
    "import json\n",
    "import random\n",
    "import shutil\n",
    "import pandas as pd\n",
    "import matplotlib.pyplot as plt\n",
    "import datetime as dt\n",
    "import calendar\n",
    "import seaborn as sn\n",
    "from collections import Counter"
   ]
  },
  {
   "cell_type": "code",
   "execution_count": 2,
   "metadata": {
    "slideshow": {
     "slide_type": "skip"
    }
   },
   "outputs": [],
   "source": [
    "cd_doc = open('../data/text/china_daily/cd_composite_text.txt').read()\n",
    "nyt_doc = open('../data/text/nyt/nyt_composite_text.txt').read()\n",
    "g_doc = open('../data/text/guardian/g_composite_text.txt').read()\n",
    "dt_doc = open('../data/text/daily_telegraph/dt_composite_text.txt').read()\n",
    "ht_doc = open('../data/text/hindustan_times/ht_composite_text.txt').read()"
   ]
  },
  {
   "cell_type": "code",
   "execution_count": 3,
   "metadata": {},
   "outputs": [
    {
     "name": "stdout",
     "output_type": "stream",
     "text": [
      "2664719\n",
      "7094029\n",
      "56752419\n",
      "1828348\n",
      "2372915\n"
     ]
    }
   ],
   "source": [
    "# looking at the length of the string objects\n",
    "for cdoc in [cd_doc, nyt_doc, g_doc, dt_doc, ht_doc]:\n",
    "    print(len(cdoc))"
   ]
  },
  {
   "cell_type": "code",
   "execution_count": 4,
   "metadata": {
    "slideshow": {
     "slide_type": "skip"
    }
   },
   "outputs": [],
   "source": [
    "%run functions.ipynb"
   ]
  },
  {
   "cell_type": "code",
   "execution_count": 5,
   "metadata": {
    "slideshow": {
     "slide_type": "skip"
    }
   },
   "outputs": [],
   "source": [
    "characters_to_remove = '!,.()[]|\"'"
   ]
  },
  {
   "cell_type": "markdown",
   "metadata": {},
   "source": [
    "The following just tokenizes and creates distributions."
   ]
  },
  {
   "cell_type": "code",
   "execution_count": 6,
   "metadata": {
    "slideshow": {
     "slide_type": "skip"
    }
   },
   "outputs": [],
   "source": [
    "cd_comp_toks = tokenize(cd_doc, lowercase=True, strip_chars=characters_to_remove)\n",
    "nyt_comp_toks = tokenize(nyt_doc, lowercase=True, strip_chars=characters_to_remove)\n",
    "cd_dist = Counter(cd_comp_toks)\n",
    "nyt_dist= Counter(nyt_comp_toks)"
   ]
  },
  {
   "cell_type": "code",
   "execution_count": 7,
   "metadata": {
    "scrolled": false
   },
   "outputs": [],
   "source": [
    "g_files = [f for f in os.listdir('../data/text/guardian') if f.startswith('the-guardian-') and f.endswith('.txt')]"
   ]
  },
  {
   "cell_type": "code",
   "execution_count": 8,
   "metadata": {},
   "outputs": [],
   "source": [
    "g_dist= Counter()\n",
    "\n",
    "for fname in g_files:\n",
    "    fpath = os.path.join('..','data','text', 'guardian', fname)\n",
    "    text = open(fpath).read()\n",
    "    tokens = tokenize(text, lowercase=True, strip_chars=characters_to_remove)\n",
    "    g_dist.update(tokens)"
   ]
  },
  {
   "cell_type": "code",
   "execution_count": 9,
   "metadata": {},
   "outputs": [],
   "source": [
    "dt_comp_toks = tokenize(dt_doc, lowercase=True, strip_chars=characters_to_remove)\n",
    "ht_comp_toks = tokenize(ht_doc, lowercase=True, strip_chars=characters_to_remove)\n",
    "dt_dist= Counter(dt_comp_toks)\n",
    "ht_dist= Counter(ht_comp_toks)"
   ]
  },
  {
   "cell_type": "code",
   "execution_count": 10,
   "metadata": {},
   "outputs": [],
   "source": [
    "cd_tok_cnt = sum(cd_dist.values())\n",
    "nyt_tok_cnt = sum(nyt_dist.values())\n",
    "dt_tok_cnt = sum(dt_dist.values())\n",
    "g_tok_cnt = sum(g_dist.values())\n",
    "ht_tok_cnt = sum(ht_dist.values())"
   ]
  },
  {
   "cell_type": "markdown",
   "metadata": {},
   "source": [
    "I will now create a dataframe demonstrating normalized frequencies of each term in each source."
   ]
  },
  {
   "cell_type": "code",
   "execution_count": 11,
   "metadata": {},
   "outputs": [
    {
     "data": {
      "text/html": [
       "<div>\n",
       "<style scoped>\n",
       "    .dataframe tbody tr th:only-of-type {\n",
       "        vertical-align: middle;\n",
       "    }\n",
       "\n",
       "    .dataframe tbody tr th {\n",
       "        vertical-align: top;\n",
       "    }\n",
       "\n",
       "    .dataframe thead th {\n",
       "        text-align: right;\n",
       "    }\n",
       "</style>\n",
       "<table border=\"1\" class=\"dataframe\">\n",
       "  <thead>\n",
       "    <tr style=\"text-align: right;\">\n",
       "      <th></th>\n",
       "      <th>word</th>\n",
       "      <th>China Daily</th>\n",
       "      <th>NY Times</th>\n",
       "      <th>Daily Telegraph</th>\n",
       "      <th>Guardian</th>\n",
       "      <th>Hindustan Times</th>\n",
       "    </tr>\n",
       "  </thead>\n",
       "  <tbody>\n",
       "    <tr>\n",
       "      <th>0</th>\n",
       "      <td>laboratory</td>\n",
       "      <td>41.041034</td>\n",
       "      <td>9.843786</td>\n",
       "      <td>56.667802</td>\n",
       "      <td>4.737287</td>\n",
       "      <td>19.422725</td>\n",
       "    </tr>\n",
       "    <tr>\n",
       "      <th>1</th>\n",
       "      <td>market</td>\n",
       "      <td>50.026349</td>\n",
       "      <td>36.093882</td>\n",
       "      <td>51.099290</td>\n",
       "      <td>22.785140</td>\n",
       "      <td>27.559272</td>\n",
       "    </tr>\n",
       "    <tr>\n",
       "      <th>2</th>\n",
       "      <td>military</td>\n",
       "      <td>11.170932</td>\n",
       "      <td>19.687572</td>\n",
       "      <td>27.842562</td>\n",
       "      <td>9.716384</td>\n",
       "      <td>16.273094</td>\n",
       "    </tr>\n",
       "    <tr>\n",
       "      <th>3</th>\n",
       "      <td>conspiracy</td>\n",
       "      <td>16.756398</td>\n",
       "      <td>12.002511</td>\n",
       "      <td>7.533870</td>\n",
       "      <td>5.660563</td>\n",
       "      <td>6.561731</td>\n",
       "    </tr>\n",
       "    <tr>\n",
       "      <th>4</th>\n",
       "      <td>army</td>\n",
       "      <td>2.185617</td>\n",
       "      <td>4.749195</td>\n",
       "      <td>11.137025</td>\n",
       "      <td>3.528234</td>\n",
       "      <td>10.236301</td>\n",
       "    </tr>\n",
       "    <tr>\n",
       "      <th>5</th>\n",
       "      <td>transparency</td>\n",
       "      <td>6.071159</td>\n",
       "      <td>3.367611</td>\n",
       "      <td>9.826787</td>\n",
       "      <td>3.956898</td>\n",
       "      <td>13.123463</td>\n",
       "    </tr>\n",
       "    <tr>\n",
       "      <th>6</th>\n",
       "      <td>origins</td>\n",
       "      <td>23.070404</td>\n",
       "      <td>34.194204</td>\n",
       "      <td>57.650481</td>\n",
       "      <td>11.969618</td>\n",
       "      <td>45.669651</td>\n",
       "    </tr>\n",
       "    <tr>\n",
       "      <th>7</th>\n",
       "      <td>wuhan</td>\n",
       "      <td>161.007132</td>\n",
       "      <td>54.313521</td>\n",
       "      <td>116.938759</td>\n",
       "      <td>20.762725</td>\n",
       "      <td>84.515101</td>\n",
       "    </tr>\n",
       "    <tr>\n",
       "      <th>8</th>\n",
       "      <td>theory</td>\n",
       "      <td>9.713854</td>\n",
       "      <td>17.010753</td>\n",
       "      <td>9.499227</td>\n",
       "      <td>4.429528</td>\n",
       "      <td>8.661486</td>\n",
       "    </tr>\n",
       "  </tbody>\n",
       "</table>\n",
       "</div>"
      ],
      "text/plain": [
       "           word  China Daily   NY Times  Daily Telegraph   Guardian  \\\n",
       "0    laboratory    41.041034   9.843786        56.667802   4.737287   \n",
       "1        market    50.026349  36.093882        51.099290  22.785140   \n",
       "2      military    11.170932  19.687572        27.842562   9.716384   \n",
       "3    conspiracy    16.756398  12.002511         7.533870   5.660563   \n",
       "4          army     2.185617   4.749195        11.137025   3.528234   \n",
       "5  transparency     6.071159   3.367611         9.826787   3.956898   \n",
       "6       origins    23.070404  34.194204        57.650481  11.969618   \n",
       "7         wuhan   161.007132  54.313521       116.938759  20.762725   \n",
       "8        theory     9.713854  17.010753         9.499227   4.429528   \n",
       "\n",
       "   Hindustan Times  \n",
       "0        19.422725  \n",
       "1        27.559272  \n",
       "2        16.273094  \n",
       "3         6.561731  \n",
       "4        10.236301  \n",
       "5        13.123463  \n",
       "6        45.669651  \n",
       "7        84.515101  \n",
       "8         8.661486  "
      ]
     },
     "execution_count": 11,
     "metadata": {},
     "output_type": "execute_result"
    }
   ],
   "source": [
    "origin_terms= ['laboratory','market','military','conspiracy','army','transparency','origins','wuhan','theory','detrick','bioweapon','cold-chain','imported']\n",
    "origin_compare = compare_item(cd_dist, nyt_dist, dt_dist, g_dist, ht_dist, origin_terms[:9], 100000)\n",
    "origin_df = pd.DataFrame(origin_compare, columns=['word','China Daily','NY Times','Daily Telegraph','Guardian','Hindustan Times'])\n",
    "origin_df"
   ]
  },
  {
   "cell_type": "code",
   "execution_count": 12,
   "metadata": {
    "scrolled": true,
    "slideshow": {
     "slide_type": "subslide"
    }
   },
   "outputs": [
    {
     "data": {
      "image/png": "[encoded data removed]",
      "text/plain": [
       "<Figure size 864x432 with 1 Axes>"
      ]
     },
     "metadata": {
      "needs_background": "light"
     },
     "output_type": "display_data"
    }
   ],
   "source": [
    "compare_plot(origin_compare, 'China Daily', 'New York Times', 'The Daily Telegraph', 'Guardian', 'Hindustan Times')"
   ]
  },
  {
   "cell_type": "code",
   "execution_count": 13,
   "metadata": {
    "scrolled": true
   },
   "outputs": [
    {
     "data": {
      "text/html": [
       "<div>\n",
       "<style scoped>\n",
       "    .dataframe tbody tr th:only-of-type {\n",
       "        vertical-align: middle;\n",
       "    }\n",
       "\n",
       "    .dataframe tbody tr th {\n",
       "        vertical-align: top;\n",
       "    }\n",
       "\n",
       "    .dataframe thead th {\n",
       "        text-align: right;\n",
       "    }\n",
       "</style>\n",
       "<table border=\"1\" class=\"dataframe\">\n",
       "  <thead>\n",
       "    <tr style=\"text-align: right;\">\n",
       "      <th></th>\n",
       "      <th>word</th>\n",
       "      <th>China Daily</th>\n",
       "      <th>NY Times</th>\n",
       "      <th>Daily Telegraph</th>\n",
       "      <th>Guardian</th>\n",
       "      <th>Hindustan Times</th>\n",
       "    </tr>\n",
       "  </thead>\n",
       "  <tbody>\n",
       "    <tr>\n",
       "      <th>0</th>\n",
       "      <td>detrick</td>\n",
       "      <td>2.671310</td>\n",
       "      <td>0.000000</td>\n",
       "      <td>0.000000</td>\n",
       "      <td>0.010991</td>\n",
       "      <td>0.787408</td>\n",
       "    </tr>\n",
       "    <tr>\n",
       "      <th>1</th>\n",
       "      <td>bioweapon</td>\n",
       "      <td>0.000000</td>\n",
       "      <td>0.863490</td>\n",
       "      <td>0.000000</td>\n",
       "      <td>0.076940</td>\n",
       "      <td>0.000000</td>\n",
       "    </tr>\n",
       "    <tr>\n",
       "      <th>2</th>\n",
       "      <td>cold-chain</td>\n",
       "      <td>12.628010</td>\n",
       "      <td>0.000000</td>\n",
       "      <td>0.000000</td>\n",
       "      <td>0.153879</td>\n",
       "      <td>0.787408</td>\n",
       "    </tr>\n",
       "    <tr>\n",
       "      <th>3</th>\n",
       "      <td>imported</td>\n",
       "      <td>517.505579</td>\n",
       "      <td>3.022215</td>\n",
       "      <td>6.223631</td>\n",
       "      <td>5.649572</td>\n",
       "      <td>15.223217</td>\n",
       "    </tr>\n",
       "  </tbody>\n",
       "</table>\n",
       "</div>"
      ],
      "text/plain": [
       "         word  China Daily  NY Times  Daily Telegraph  Guardian  \\\n",
       "0     detrick     2.671310  0.000000         0.000000  0.010991   \n",
       "1   bioweapon     0.000000  0.863490         0.000000  0.076940   \n",
       "2  cold-chain    12.628010  0.000000         0.000000  0.153879   \n",
       "3    imported   517.505579  3.022215         6.223631  5.649572   \n",
       "\n",
       "   Hindustan Times  \n",
       "0         0.787408  \n",
       "1         0.000000  \n",
       "2         0.787408  \n",
       "3        15.223217  "
      ]
     },
     "execution_count": 13,
     "metadata": {},
     "output_type": "execute_result"
    }
   ],
   "source": [
    "excluded_compare = compare_item(cd_dist, nyt_dist, dt_dist, g_dist, ht_dist, origin_terms[9:], 100000)\n",
    "excluded_df = pd.DataFrame(excluded_compare, columns=['word','China Daily','NY Times','Daily Telegraph','Guardian','Hindustan Times'])\n",
    "excluded_df"
   ]
  },
  {
   "cell_type": "code",
   "execution_count": 14,
   "metadata": {
    "scrolled": false
   },
   "outputs": [
    {
     "data": {
      "image/png": "[encoded data removed]",
      "text/plain": [
       "<Figure size 864x432 with 1 Axes>"
      ]
     },
     "metadata": {
      "needs_background": "light"
     },
     "output_type": "display_data"
    }
   ],
   "source": [
    "compare_plot(excluded_compare[:-1], 'China Daily', 'New York Times', 'The Daily Telegraph', 'Guardian', 'Hindustan Times')"
   ]
  },
  {
   "cell_type": "markdown",
   "metadata": {},
   "source": [
    "FASCINATING! Loook at which words aren't included in which sources and which are....very interesting. Also wide variation in frequencies."
   ]
  },
  {
   "cell_type": "code",
   "execution_count": 15,
   "metadata": {},
   "outputs": [],
   "source": [
    "nyt_bigram_dist=Counter()\n",
    "nyt_trigram_dist=Counter()\n",
    "\n",
    "\n",
    "csize = len(nyt_comp_toks)\n",
    "chsize = int(csize/10)\n",
    "for cidx in range(0,csize,chsize):\n",
    "    ch_toks = nyt_comp_toks[cidx:cidx+chsize]\n",
    "    bigrams=get_ngram_tokens(ch_toks,2)\n",
    "    trigrams=get_ngram_tokens(ch_toks,3)\n",
    "    nyt_bigram_dist.update(bigrams)\n",
    "    nyt_trigram_dist.update(trigrams)"
   ]
  },
  {
   "cell_type": "code",
   "execution_count": 16,
   "metadata": {},
   "outputs": [],
   "source": [
    "cd_bigram_dist = Counter()\n",
    "cd_trigram_dist = Counter()\n",
    "\n",
    "csize = len(cd_comp_toks)\n",
    "chsize = int(csize/10)\n",
    "for cidx in range(0,csize,chsize):\n",
    "    ch_toks = cd_comp_toks[cidx:cidx+chsize]\n",
    "    bigrams=get_ngram_tokens(ch_toks,2)\n",
    "    trigrams=get_ngram_tokens(ch_toks,3)\n",
    "    cd_bigram_dist.update(bigrams)\n",
    "    cd_trigram_dist.update(trigrams)"
   ]
  },
  {
   "cell_type": "code",
   "execution_count": 17,
   "metadata": {
    "scrolled": true
   },
   "outputs": [
    {
     "name": "stdout",
     "output_type": "stream",
     "text": [
      "WORD                     A Freq.   B Freq.   Keyness\n",
      "====================================================\n",
      "covid-19 cases           3052      39        7773.938\n",
      "new covid-19             2197      6         5801.144\n",
      "outside china            2161      35        5446.115\n",
      "cases on                 1698      61        4051.893\n",
      "novel coronavirus        843       55        1876.010\n",
      "hopkins university       617       6         1587.417\n",
      "johns hopkins            617       21        1479.518\n",
      "for covid-19             746       106       1421.121\n",
      "prevention and           530       20        1258.901\n",
      "and control              516       17        1240.843\n",
      "the novel                587       59        1212.179\n",
      "on oct                   467       19        1101.068\n",
      "covid-19 deaths          348       13        827.396\n",
      "positive for             557       161       824.528\n",
      "health commission        361       35        750.889\n",
      "tests positive           273       8         662.849\n",
      "the epidemic             404       93        658.773\n",
      "in us                    270       11        636.503\n",
      "as of                    374       90        599.279\n",
      "the covid-19             388       132       529.627\n",
      "the us                   616       404       524.919\n",
      "national health          248       34        476.885\n",
      "people wearing           188       5         459.829\n",
      "of chinese               265       52        457.963\n",
      "covid-19 infections      182       6         437.637\n"
     ]
    }
   ],
   "source": [
    "calculate_keyness(cd_bigram_dist, nyt_bigram_dist, top=25)"
   ]
  },
  {
   "cell_type": "code",
   "execution_count": 18,
   "metadata": {},
   "outputs": [
    {
     "name": "stdout",
     "output_type": "stream",
     "text": [
      "WORD                     A Freq.   B Freq.   Keyness\n",
      "====================================================\n",
      "york times               579       30        193.446\n",
      "the coronavirus          1554      228       192.658\n",
      "new york                 1254      168       179.668\n",
      "one of                   856       85        177.517\n",
      "the new                  1019      121       172.375\n",
      "of a                     1415      212       169.197\n",
      "it was                   969       120       155.170\n",
      "the president            366       11        152.698\n",
      "he was                   485       32        140.695\n",
      "for a                    774       92        130.764\n",
      "health care              284       6         130.442\n",
      "but the                  533       47        123.798\n",
      "united states            1043      157       123.691\n",
      "in the                   5537      1431      122.971\n",
      "president trump          268       6         121.396\n",
      "was a                    528       48        119.292\n",
      "the united               1183      199       113.231\n",
      "going to                 389       26        111.886\n",
      "out of                   433       34        110.835\n",
      "they were                354       22        106.687\n",
      "that he                  453       40        105.089\n",
      "much of                  250       8         102.195\n",
      "at least                 528       56        102.101\n",
      "people who               389       30        100.978\n",
      "would be                 509       55        96.401\n"
     ]
    }
   ],
   "source": [
    "calculate_keyness(nyt_bigram_dist, cd_bigram_dist, top=25)"
   ]
  },
  {
   "cell_type": "code",
   "execution_count": 19,
   "metadata": {},
   "outputs": [],
   "source": [
    "keyness_df = calculate_keyness(cd_trigram_dist, nyt_trigram_dist, print_table=False, top=-1, keyness_threshold=-100000)"
   ]
  },
  {
   "cell_type": "code",
   "execution_count": 20,
   "metadata": {
    "scrolled": true
   },
   "outputs": [
    {
     "data": {
      "text/plain": [
       "<AxesSubplot:xlabel='Keyness'>"
      ]
     },
     "execution_count": 20,
     "metadata": {},
     "output_type": "execute_result"
    },
    {
     "data": {
      "image/png": "[encoded data removed]",
      "text/plain": [
       "<Figure size 576x1080 with 1 Axes>"
      ]
     },
     "metadata": {
      "needs_background": "light"
     },
     "output_type": "display_data"
    }
   ],
   "source": [
    "plot_keyitems(keyness_df, 30, c1='red', c2='orange')"
   ]
  },
  {
   "cell_type": "markdown",
   "metadata": {},
   "source": [
    "Observation:\n",
    "\n",
    "Wow this is interesting. Some notable differences: Trump administration, global vs. US; origins in the; cases #."
   ]
  },
  {
   "cell_type": "code",
   "execution_count": 23,
   "metadata": {},
   "outputs": [
    {
     "data": {
      "text/html": [
       "\n",
       "        <div style=' float:left; width: 40%; text-align: center'>\n",
       "        <h3>China Daily</h3>\n",
       "        \n",
       "            <div style=\"font-size: 22.104595812903057px; color: red; margin-bottom: 2px; float: left; \n",
       "            margin: 10px; padding: 2px; background-color: #f7f7f7; border-radius: 6px\">\n",
       "            johns hopkins university</div>\n",
       "            \n",
       "\n",
       "            <div style=\"font-size: 21.39938247488312px; color: red; margin-bottom: 2px; float: left; \n",
       "            margin: 10px; padding: 2px; background-color: #f7f7f7; border-radius: 6px\">\n",
       "            prevention and control</div>\n",
       "            \n",
       "\n",
       "            <div style=\"font-size: 21.371186874541532px; color: red; margin-bottom: 2px; float: left; \n",
       "            margin: 10px; padding: 2px; background-color: #f7f7f7; border-radius: 6px\">\n",
       "            the novel coronavirus</div>\n",
       "            \n",
       "\n",
       "            <div style=\"font-size: 21.344130555046164px; color: red; margin-bottom: 2px; float: left; \n",
       "            margin: 10px; padding: 2px; background-color: #f7f7f7; border-radius: 6px\">\n",
       "            positive for covid-19</div>\n",
       "            \n",
       "\n",
       "            <div style=\"font-size: 21.03692565991164px; color: red; margin-bottom: 2px; float: left; \n",
       "            margin: 10px; padding: 2px; background-color: #f7f7f7; border-radius: 6px\">\n",
       "            cases on friday</div>\n",
       "            \n",
       "\n",
       "            <div style=\"font-size: 20.408932466584808px; color: red; margin-bottom: 2px; float: left; \n",
       "            margin: 10px; padding: 2px; background-color: #f7f7f7; border-radius: 6px\">\n",
       "            cases on thursday</div>\n",
       "            \n",
       "\n",
       "            <div style=\"font-size: 19.49094020412791px; color: red; margin-bottom: 2px; float: left; \n",
       "            margin: 10px; padding: 2px; background-color: #f7f7f7; border-radius: 6px\">\n",
       "            of the novel</div>\n",
       "            \n",
       "\n",
       "            <div style=\"font-size: 18.756227227218332px; color: red; margin-bottom: 2px; float: left; \n",
       "            margin: 10px; padding: 2px; background-color: #f7f7f7; border-radius: 6px\">\n",
       "            national health commission</div>\n",
       "            \n",
       "\n",
       "            <div style=\"font-size: 18.23450059613374px; color: red; margin-bottom: 2px; float: left; \n",
       "            margin: 10px; padding: 2px; background-color: #f7f7f7; border-radius: 6px\">\n",
       "            cases on sunday</div>\n",
       "            \n",
       "\n",
       "            <div style=\"font-size: 17.77415685559447px; color: red; margin-bottom: 2px; float: left; \n",
       "            margin: 10px; padding: 2px; background-color: #f7f7f7; border-radius: 6px\">\n",
       "            cases on tuesday</div>\n",
       "            \n",
       "\n",
       "            <div style=\"font-size: 17.63940920783066px; color: red; margin-bottom: 2px; float: left; \n",
       "            margin: 10px; padding: 2px; background-color: #f7f7f7; border-radius: 6px\">\n",
       "            the covid-19 outbreak</div>\n",
       "            \n",
       "\n",
       "            <div style=\"font-size: 17.56298457499701px; color: red; margin-bottom: 2px; float: left; \n",
       "            margin: 10px; padding: 2px; background-color: #f7f7f7; border-radius: 6px\">\n",
       "            fight against the</div>\n",
       "            \n",
       "\n",
       "            <div style=\"font-size: 17.089514292269403px; color: red; margin-bottom: 2px; float: left; \n",
       "            margin: 10px; padding: 2px; background-color: #f7f7f7; border-radius: 6px\">\n",
       "            outside china the</div>\n",
       "            \n",
       "\n",
       "            <div style=\"font-size: 17.06322538509572px; color: red; margin-bottom: 2px; float: left; \n",
       "            margin: 10px; padding: 2px; background-color: #f7f7f7; border-radius: 6px\">\n",
       "            covid-19 cases in</div>\n",
       "            \n",
       "\n",
       "            <div style=\"font-size: 17.036710380035647px; color: red; margin-bottom: 2px; float: left; \n",
       "            margin: 10px; padding: 2px; background-color: #f7f7f7; border-radius: 6px\">\n",
       "            data released by</div>\n",
       "            \n",
       "\n",
       "            <div style=\"font-size: 16.66545811043772px; color: red; margin-bottom: 2px; float: left; \n",
       "            margin: 10px; padding: 2px; background-color: #f7f7f7; border-radius: 6px\">\n",
       "            in beijing on</div>\n",
       "            \n",
       "\n",
       "            <div style=\"font-size: 16.6530066204807px; color: red; margin-bottom: 2px; float: left; \n",
       "            margin: 10px; padding: 2px; background-color: #f7f7f7; border-radius: 6px\">\n",
       "            cases of covid-19</div>\n",
       "            \n",
       "\n",
       "            <div style=\"font-size: 16.183430611736302px; color: red; margin-bottom: 2px; float: left; \n",
       "            margin: 10px; padding: 2px; background-color: #f7f7f7; border-radius: 6px\">\n",
       "            in a laboratory</div>\n",
       "            \n",
       "\n",
       "            <div style=\"font-size: 16.03982713762624px; color: red; margin-bottom: 2px; float: left; \n",
       "            margin: 10px; padding: 2px; background-color: #f7f7f7; border-radius: 6px\">\n",
       "            wearing a face</div>\n",
       "            \n",
       "\n",
       "            <div style=\"font-size: 16.03982713762624px; color: red; margin-bottom: 2px; float: left; \n",
       "            margin: 10px; padding: 2px; background-color: #f7f7f7; border-radius: 6px\">\n",
       "            work in a</div>\n",
       "            </div>\n",
       "       <div style='width: 40%; padding-left: 20px; float: left; '>\n",
       "       <h3 style=\"text-align: center\">New York Times</h3>\n",
       "        \n",
       "            <div style=\"font-size: 9.736561784479642px; color: orange; margin-bottom: 2px; float: left; \n",
       "            margin: 10px; padding: 2px; background-color: #f7f7f7; border-radius: 6px\">\n",
       "            the centers for</div>\n",
       "            \n",
       "\n",
       "            <div style=\"font-size: 9.864061389400629px; color: orange; margin-bottom: 2px; float: left; \n",
       "            margin: 10px; padding: 2px; background-color: #f7f7f7; border-radius: 6px\">\n",
       "            during the pandemic</div>\n",
       "            \n",
       "\n",
       "            <div style=\"font-size: 9.87674613257553px; color: orange; margin-bottom: 2px; float: left; \n",
       "            margin: 10px; padding: 2px; background-color: #f7f7f7; border-radius: 6px\">\n",
       "            of thousands of</div>\n",
       "            \n",
       "\n",
       "            <div style=\"font-size: 10.039844280765566px; color: orange; margin-bottom: 2px; float: left; \n",
       "            margin: 10px; padding: 2px; background-color: #f7f7f7; border-radius: 6px\">\n",
       "            because of the</div>\n",
       "            \n",
       "\n",
       "            <div style=\"font-size: 10.18076174024708px; color: orange; margin-bottom: 2px; float: left; \n",
       "            margin: 10px; padding: 2px; background-color: #f7f7f7; border-radius: 6px\">\n",
       "            it was a</div>\n",
       "            \n",
       "\n",
       "            <div style=\"font-size: 10.35220723862431px; color: orange; margin-bottom: 2px; float: left; \n",
       "            margin: 10px; padding: 2px; background-color: #f7f7f7; border-radius: 6px\">\n",
       "            the university of</div>\n",
       "            \n",
       "\n",
       "            <div style=\"font-size: 10.443163512343268px; color: orange; margin-bottom: 2px; float: left; \n",
       "            margin: 10px; padding: 2px; background-color: #f7f7f7; border-radius: 6px\">\n",
       "            to the coronavirus</div>\n",
       "            \n",
       "\n",
       "            <div style=\"font-size: 10.4905630988474px; color: orange; margin-bottom: 2px; float: left; \n",
       "            margin: 10px; padding: 2px; background-color: #f7f7f7; border-radius: 6px\">\n",
       "            the end of</div>\n",
       "            \n",
       "\n",
       "            <div style=\"font-size: 10.548274809497965px; color: orange; margin-bottom: 2px; float: left; \n",
       "            margin: 10px; padding: 2px; background-color: #f7f7f7; border-radius: 6px\">\n",
       "            some of the</div>\n",
       "            \n",
       "\n",
       "            <div style=\"font-size: 11.091785071111694px; color: orange; margin-bottom: 2px; float: left; \n",
       "            margin: 10px; padding: 2px; background-color: #f7f7f7; border-radius: 6px\">\n",
       "            new york city</div>\n",
       "            \n",
       "\n",
       "            <div style=\"font-size: 11.273461343736184px; color: orange; margin-bottom: 2px; float: left; \n",
       "            margin: 10px; padding: 2px; background-color: #f7f7f7; border-radius: 6px\">\n",
       "            in new york</div>\n",
       "            \n",
       "\n",
       "            <div style=\"font-size: 11.274947736127407px; color: orange; margin-bottom: 2px; float: left; \n",
       "            margin: 10px; padding: 2px; background-color: #f7f7f7; border-radius: 6px\">\n",
       "            much of the</div>\n",
       "            \n",
       "\n",
       "            <div style=\"font-size: 11.334255845695374px; color: orange; margin-bottom: 2px; float: left; \n",
       "            margin: 10px; padding: 2px; background-color: #f7f7f7; border-radius: 6px\">\n",
       "            that it was</div>\n",
       "            \n",
       "\n",
       "            <div style=\"font-size: 11.345246636698388px; color: orange; margin-bottom: 2px; float: left; \n",
       "            margin: 10px; padding: 2px; background-color: #f7f7f7; border-radius: 6px\">\n",
       "            in the united</div>\n",
       "            \n",
       "\n",
       "            <div style=\"font-size: 11.530061113639011px; color: orange; margin-bottom: 2px; float: left; \n",
       "            margin: 10px; padding: 2px; background-color: #f7f7f7; border-radius: 6px\">\n",
       "            at the university</div>\n",
       "            \n",
       "\n",
       "            <div style=\"font-size: 12.087459159954426px; color: orange; margin-bottom: 2px; float: left; \n",
       "            margin: 10px; padding: 2px; background-color: #f7f7f7; border-radius: 6px\">\n",
       "            the coronavirus pandemic</div>\n",
       "            \n",
       "\n",
       "            <div style=\"font-size: 13.032119427536859px; color: orange; margin-bottom: 2px; float: left; \n",
       "            margin: 10px; padding: 2px; background-color: #f7f7f7; border-radius: 6px\">\n",
       "            one of the</div>\n",
       "            \n",
       "\n",
       "            <div style=\"font-size: 14.527647305107896px; color: orange; margin-bottom: 2px; float: left; \n",
       "            margin: 10px; padding: 2px; background-color: #f7f7f7; border-radius: 6px\">\n",
       "            the united states</div>\n",
       "            \n",
       "\n",
       "            <div style=\"font-size: 15.422823918051517px; color: orange; margin-bottom: 2px; float: left; \n",
       "            margin: 10px; padding: 2px; background-color: #f7f7f7; border-radius: 6px\">\n",
       "            for the new</div>\n",
       "            \n",
       "\n",
       "            <div style=\"font-size: 15.699357317192828px; color: orange; margin-bottom: 2px; float: left; \n",
       "            margin: 10px; padding: 2px; background-color: #f7f7f7; border-radius: 6px\">\n",
       "            the new york</div>\n",
       "            </div>\n",
       "    "
      ],
      "text/plain": [
       "<IPython.core.display.HTML object>"
      ]
     },
     "metadata": {},
     "output_type": "display_data"
    }
   ],
   "source": [
    "show_keyitems(keyness_df, 20, \n",
    "              c1='red', c2='orange',\n",
    "              corpusA='China Daily', corpusB='New York Times')"
   ]
  },
  {
   "cell_type": "code",
   "execution_count": 22,
   "metadata": {
    "scrolled": true
   },
   "outputs": [
    {
     "data": {
      "text/html": [
       "<div>\n",
       "<style scoped>\n",
       "    .dataframe tbody tr th:only-of-type {\n",
       "        vertical-align: middle;\n",
       "    }\n",
       "\n",
       "    .dataframe tbody tr th {\n",
       "        vertical-align: top;\n",
       "    }\n",
       "\n",
       "    .dataframe thead th {\n",
       "        text-align: right;\n",
       "    }\n",
       "</style>\n",
       "<table border=\"1\" class=\"dataframe\">\n",
       "  <thead>\n",
       "    <tr style=\"text-align: right;\">\n",
       "      <th></th>\n",
       "      <th>word</th>\n",
       "      <th>cd_freq</th>\n",
       "      <th>norm_cd</th>\n",
       "      <th>nyt_freq</th>\n",
       "      <th>norm_nyt</th>\n",
       "      <th>keyness</th>\n",
       "    </tr>\n",
       "  </thead>\n",
       "  <tbody>\n",
       "    <tr>\n",
       "      <th>0</th>\n",
       "      <td>origins</td>\n",
       "      <td>95</td>\n",
       "      <td>23.070404</td>\n",
       "      <td>396</td>\n",
       "      <td>34.194204</td>\n",
       "      <td>-12.820958</td>\n",
       "    </tr>\n",
       "    <tr>\n",
       "      <th>1</th>\n",
       "      <td>theory</td>\n",
       "      <td>40</td>\n",
       "      <td>9.713854</td>\n",
       "      <td>197</td>\n",
       "      <td>17.010753</td>\n",
       "      <td>-11.756075</td>\n",
       "    </tr>\n",
       "    <tr>\n",
       "      <th>2</th>\n",
       "      <td>conspiracy</td>\n",
       "      <td>69</td>\n",
       "      <td>16.756398</td>\n",
       "      <td>139</td>\n",
       "      <td>12.002511</td>\n",
       "      <td>4.927507</td>\n",
       "    </tr>\n",
       "    <tr>\n",
       "      <th>3</th>\n",
       "      <td>transparency</td>\n",
       "      <td>25</td>\n",
       "      <td>6.071159</td>\n",
       "      <td>39</td>\n",
       "      <td>3.367611</td>\n",
       "      <td>5.006619</td>\n",
       "    </tr>\n",
       "    <tr>\n",
       "      <th>4</th>\n",
       "      <td>laboratory</td>\n",
       "      <td>169</td>\n",
       "      <td>41.041034</td>\n",
       "      <td>114</td>\n",
       "      <td>9.843786</td>\n",
       "      <td>140.128671</td>\n",
       "    </tr>\n",
       "  </tbody>\n",
       "</table>\n",
       "</div>"
      ],
      "text/plain": [
       "           word  cd_freq    norm_cd  nyt_freq   norm_nyt     keyness\n",
       "0       origins       95  23.070404       396  34.194204  -12.820958\n",
       "1        theory       40   9.713854       197  17.010753  -11.756075\n",
       "2    conspiracy       69  16.756398       139  12.002511    4.927507\n",
       "3  transparency       25   6.071159        39   3.367611    5.006619\n",
       "4    laboratory      169  41.041034       114   9.843786  140.128671"
      ]
     },
     "execution_count": 22,
     "metadata": {},
     "output_type": "execute_result"
    }
   ],
   "source": [
    "keyness_terms = ['origins','theory','conspiracy','transparency','laboratory']\n",
    "key_data=[]\n",
    "\n",
    "for word in keyness_terms:\n",
    "    cd_freq = cd_dist.get(word,0)\n",
    "    nyt_freq = nyt_dist.get(word,0)\n",
    "    norm_cd = cd_freq/len(cd_comp_toks)*100000\n",
    "    norm_nyt = nyt_freq/len(nyt_comp_toks)* 100000\n",
    "\n",
    "    keyness = log_likelihood(cd_freq, len(cd_comp_toks), nyt_freq, len(nyt_comp_toks))\n",
    "    key_data.append((word, cd_freq, norm_cd, nyt_freq, norm_nyt, keyness))\n",
    "    key_df = pd.DataFrame(key_data, columns= ['word','cd_freq','norm_cd','nyt_freq','norm_nyt','keyness'])\n",
    "key_df"
   ]
  },
  {
   "cell_type": "markdown",
   "metadata": {},
   "source": [
    "Observation:\n",
    "\n",
    "The data for transparency is really fascinating. Ironic that China Daily is mentioning transparency so much when other sources are critical of that."
   ]
  },
  {
   "cell_type": "code",
   "execution_count": null,
   "metadata": {},
   "outputs": [],
   "source": []
  }
 ],
 "metadata": {
  "kernelspec": {
   "display_name": "Python 3",
   "language": "python",
   "name": "python3"
  },
  "language_info": {
   "codemirror_mode": {
    "name": "ipython",
    "version": 3
   },
   "file_extension": ".py",
   "mimetype": "text/x-python",
   "name": "python",
   "nbconvert_exporter": "python",
   "pygments_lexer": "ipython3",
   "version": "3.7.3"
  }
 },
 "nbformat": 4,
 "nbformat_minor": 2
}
