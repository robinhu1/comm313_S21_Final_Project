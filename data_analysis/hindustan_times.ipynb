{
 "cells": [
  {
   "cell_type": "markdown",
   "metadata": {},
   "source": [
    "# Data Analysis - The Hindustan Times"
   ]
  },
  {
   "cell_type": "markdown",
   "metadata": {},
   "source": [
    "In this data analysis notebook, I will first conduct a general analysis and further clean if necessary of all publications collected for the Hindustan Time. Specifically, I will generate a frequency list of commonly used words and phrases, followed by a KWIC analysis to investigate the contexts surrounding a select fraction of words of interest. \n",
    "\n",
    "- general analysis\n",
    "- frequency lists\n",
    "- KWIC analysis\n"
   ]
  },
  {
   "cell_type": "code",
   "execution_count": 1,
   "metadata": {},
   "outputs": [],
   "source": [
    "import os\n",
    "import json\n",
    "import random\n",
    "import shutil\n",
    "\n",
    "import datetime as dt\n",
    "import calendar\n",
    "\n",
    "from collections import Counter"
   ]
  },
  {
   "cell_type": "code",
   "execution_count": 2,
   "metadata": {},
   "outputs": [],
   "source": [
    "## run the functions notebook here\n",
    "%run functions.ipynb"
   ]
  },
  {
   "cell_type": "code",
   "execution_count": 3,
   "metadata": {},
   "outputs": [],
   "source": [
    "## open the corpus_index file that only contains publications from the Hindustan Times\n",
    "ht_corp = json.load(open('../data/text/hindustan_times/ht_corpus_index.json'))"
   ]
  },
  {
   "cell_type": "code",
   "execution_count": 4,
   "metadata": {
    "scrolled": true
   },
   "outputs": [
    {
     "data": {
      "text/plain": [
       "655"
      ]
     },
     "execution_count": 4,
     "metadata": {},
     "output_type": "execute_result"
    }
   ],
   "source": [
    "len(ht_corp)"
   ]
  },
  {
   "cell_type": "markdown",
   "metadata": {},
   "source": [
    "There are a total of 655 publications from the Hindustan Times. The first general analysis I will conduct is on the date of publication to see if there are any trends in terms of when output of publications may have been greater."
   ]
  },
  {
   "cell_type": "code",
   "execution_count": 5,
   "metadata": {},
   "outputs": [],
   "source": [
    "## extract year-month and append to list dates\n",
    "dates=[]\n",
    "\n",
    "for article in ht_corp:\n",
    "    date=article['Date'][:7]\n",
    "    dates.append(date)"
   ]
  },
  {
   "cell_type": "code",
   "execution_count": 6,
   "metadata": {
    "scrolled": true
   },
   "outputs": [
    {
     "data": {
      "text/plain": [
       "[('2020-05', 145),\n",
       " ('2020-03', 112),\n",
       " ('2020-04', 100),\n",
       " ('2020-06', 58),\n",
       " ('2020-12', 34)]"
      ]
     },
     "execution_count": 6,
     "metadata": {},
     "output_type": "execute_result"
    }
   ],
   "source": [
    "## counter and 5 most common times of publication\n",
    "dates_dist= Counter(dates)\n",
    "dates_dist.most_common(5)"
   ]
  },
  {
   "cell_type": "markdown",
   "metadata": {},
   "source": [
    "Similar to what was observed with the other four sources, the most publications were released in May of 2020. Here, March and April followed behind. To visualize the data, I will plot the distribution as a bar graph."
   ]
  },
  {
   "cell_type": "code",
   "execution_count": 7,
   "metadata": {},
   "outputs": [
    {
     "data": {
      "text/plain": [
       "<AxesSubplot:title={'center':'Hindustan Times'}, xlabel='date', ylabel='# Articles'>"
      ]
     },
     "execution_count": 7,
     "metadata": {},
     "output_type": "execute_result"
    }
   ],
   "source": [
    "date_df = pd.DataFrame.from_records(list(dates_dist.items()), columns=['date','article'])\n",
    "date_df.sort_values('date').plot.bar(x='date',y='article', figsize=(12,6), color='salmon',title='Hindustan Times',ylabel='# Articles')"
   ]
  },
  {
   "cell_type": "code",
   "execution_count": null,
   "metadata": {},
   "outputs": [],
   "source": []
  },
  {
   "cell_type": "code",
   "execution_count": 8,
   "metadata": {},
   "outputs": [],
   "source": [
    "characters_to_remove = '!,.()[]\"'"
   ]
  },
  {
   "cell_type": "code",
   "execution_count": 9,
   "metadata": {},
   "outputs": [],
   "source": [
    "## extract text from each publication corresponding to the Daily Telegraph and add to dictionary\n",
    "for article in ht_corp:\n",
    "    filename = article['Filename']\n",
    "    text = open('../data/text/hindustan_times/{}'.format(filename)).read()\n",
    "    article['text'] = text"
   ]
  },
  {
   "cell_type": "code",
   "execution_count": 10,
   "metadata": {},
   "outputs": [],
   "source": [
    "## tokenize the text and add 'tokens', 'token_cnt', and 'type_cnt' to dictionary \n",
    "for article in ht_corp:\n",
    "    if article.get('text'):\n",
    "        ht_tokens = tokenize(article['text'], lowercase=True, strip_chars=characters_to_remove)\n",
    "        article['tokens'] = ht_tokens \n",
    "        article['token_cnt'] = len(ht_tokens)\n",
    "        article['type_cnt'] = len(set(ht_tokens))"
   ]
  },
  {
   "cell_type": "code",
   "execution_count": 11,
   "metadata": {},
   "outputs": [],
   "source": [
    "## counters for tokens of individual words, bigrams, and trigrams\n",
    "ht_token_dist=Counter()\n",
    "ht_text_dist= Counter()\n",
    "ht_bigram_dist=Counter()\n",
    "ht_trigram_dist=Counter()\n",
    "\n",
    "for article in ht_corp:\n",
    "    if article.get('tokens'):\n",
    "        ht_tokens = article['tokens']\n",
    "        ht_token_dist.update(ht_tokens)\n",
    "        ht_text_dist.update(set(ht_tokens))\n",
    "        \n",
    "        ht_bigrams=get_ngram_tokens(ht_tokens,2)\n",
    "        ht_trigrams=get_ngram_tokens(ht_tokens,3)\n",
    "        \n",
    "        ht_bigram_dist.update(ht_bigrams)\n",
    "        ht_trigram_dist.update(ht_trigrams) "
   ]
  },
  {
   "cell_type": "code",
   "execution_count": 12,
   "metadata": {},
   "outputs": [
    {
     "data": {
      "text/plain": [
       "[('the', 24895),\n",
       " ('to', 11042),\n",
       " ('of', 11005),\n",
       " ('and', 9607),\n",
       " ('in', 8419),\n",
       " ('a', 6554),\n",
       " ('for', 4096),\n",
       " ('with', 3831),\n",
       " ('on', 3661),\n",
       " ('is', 3603),\n",
       " ('that', 3599),\n",
       " ('from', 3046),\n",
       " ('by', 2665),\n",
       " ('said', 2502),\n",
       " ('at', 2393),\n",
       " ('has', 2350),\n",
       " ('have', 2267),\n",
       " ('as', 2200),\n",
       " ('are', 2033),\n",
       " ('it', 2016),\n",
       " ('india', 1995),\n",
       " ('this', 1968),\n",
       " ('be', 1895),\n",
       " ('was', 1823),\n",
       " ('any', 1644),\n",
       " ('covid-19', 1608),\n",
       " ('or', 1577),\n",
       " ('will', 1493),\n",
       " ('content', 1339),\n",
       " ('other', 1330),\n",
       " ('who', 1323),\n",
       " ('an', 1302),\n",
       " ('been', 1299),\n",
       " ('not', 1278),\n",
       " ('people', 1250),\n",
       " ('we', 1219),\n",
       " ('also', 1162),\n",
       " ('he', 1087),\n",
       " ('china', 1049),\n",
       " ('more', 1018),\n",
       " ('health', 996),\n",
       " ('were', 961),\n",
       " ('its', 959),\n",
       " ('which', 943),\n",
       " ('their', 933),\n",
       " ('virus', 874),\n",
       " ('had', 866),\n",
       " ('contact', 859),\n",
       " ('times', 854),\n",
       " ('coronavirus', 852)]"
      ]
     },
     "execution_count": 12,
     "metadata": {},
     "output_type": "execute_result"
    }
   ],
   "source": [
    "ht_token_dist.most_common(50)"
   ]
  },
  {
   "cell_type": "code",
   "execution_count": 13,
   "metadata": {
    "scrolled": true
   },
   "outputs": [
    {
     "data": {
      "text/plain": [
       "[('of the', 3021),\n",
       " ('in the', 2008),\n",
       " ('to the', 1174),\n",
       " ('hindustan times', 732),\n",
       " ('on the', 726),\n",
       " ('and the', 705),\n",
       " ('from hindustan', 684),\n",
       " ('to this', 684),\n",
       " ('for any', 679),\n",
       " ('any other', 675),\n",
       " ('with respect', 669),\n",
       " ('or any', 668),\n",
       " ('by the', 667),\n",
       " ('respect to', 667),\n",
       " ('published by', 665),\n",
       " ('by ht', 663),\n",
       " ('services with', 657),\n",
       " ('this article', 656),\n",
       " ('ht digital', 655),\n",
       " ('digital content', 655),\n",
       " ('content services', 655),\n",
       " ('with permission', 655),\n",
       " ('permission from', 655),\n",
       " ('times for', 655),\n",
       " ('any query', 655),\n",
       " ('query with', 655),\n",
       " ('article or', 655),\n",
       " ('other content', 655),\n",
       " ('content requirement', 655),\n",
       " ('requirement please', 655),\n",
       " ('please contact', 655),\n",
       " ('contact editor', 655),\n",
       " ('editor at', 655),\n",
       " ('at contentservices@htlivecom', 655),\n",
       " ('the world', 624),\n",
       " ('that the', 618),\n",
       " ('for the', 616),\n",
       " ('to be', 603),\n",
       " ('the virus', 580),\n",
       " ('at the', 563),\n",
       " ('have been', 547),\n",
       " ('with the', 546),\n",
       " ('has been', 499),\n",
       " ('in a', 498),\n",
       " ('from the', 489),\n",
       " ('will be', 470),\n",
       " ('the coronavirus', 425),\n",
       " ('said the', 410),\n",
       " ('in india', 392),\n",
       " ('it is', 372)]"
      ]
     },
     "execution_count": 13,
     "metadata": {},
     "output_type": "execute_result"
    }
   ],
   "source": [
    "ht_bigram_dist.most_common(50)"
   ]
  },
  {
   "cell_type": "markdown",
   "metadata": {},
   "source": [
    "Here we see mentions of digital content and content services. Perhaps a focal point for articles in the Hindustan Times will be on how the theories are spread? Just a thought at this time."
   ]
  },
  {
   "cell_type": "code",
   "execution_count": 14,
   "metadata": {
    "scrolled": true
   },
   "outputs": [
    {
     "data": {
      "text/plain": [
       "[('from hindustan times', 684),\n",
       " ('with respect to', 667),\n",
       " ('or any other', 659),\n",
       " ('published by ht', 655),\n",
       " ('by ht digital', 655),\n",
       " ('ht digital content', 655),\n",
       " ('digital content services', 655),\n",
       " ('content services with', 655),\n",
       " ('services with permission', 655),\n",
       " ('with permission from', 655),\n",
       " ('permission from hindustan', 655),\n",
       " ('hindustan times for', 655),\n",
       " ('times for any', 655),\n",
       " ('for any query', 655),\n",
       " ('any query with', 655),\n",
       " ('query with respect', 655),\n",
       " ('respect to this', 655),\n",
       " ('to this article', 655),\n",
       " ('this article or', 655),\n",
       " ('article or any', 655),\n",
       " ('any other content', 655),\n",
       " ('other content requirement', 655),\n",
       " ('content requirement please', 655),\n",
       " ('requirement please contact', 655),\n",
       " ('please contact editor', 655),\n",
       " ('contact editor at', 655),\n",
       " ('editor at contentservices@htlivecom', 655),\n",
       " ('the world health', 212),\n",
       " ('of the virus', 189),\n",
       " ('the number of', 170),\n",
       " ('the united states', 158),\n",
       " ('the covid-19 pandemic', 156),\n",
       " ('world health organization', 156),\n",
       " ('coronavirus disease covid-19', 150),\n",
       " ('the origin of', 146),\n",
       " ('the coronavirus disease', 140),\n",
       " ('one of the', 140),\n",
       " ('the spread of', 135),\n",
       " ('origin of the', 133),\n",
       " ('of the coronavirus', 128),\n",
       " ('in the country', 126),\n",
       " ('of the covid-19', 105),\n",
       " ('across the world', 96),\n",
       " ('spread of the', 93),\n",
       " ('of the disease', 92),\n",
       " ('prime minister narendra', 87),\n",
       " ('according to the', 84),\n",
       " ('due to the', 81),\n",
       " ('minister narendra modi', 81),\n",
       " ('as well as', 80)]"
      ]
     },
     "execution_count": 14,
     "metadata": {},
     "output_type": "execute_result"
    }
   ],
   "source": [
    "ht_trigram_dist.most_common(50)"
   ]
  },
  {
   "cell_type": "markdown",
   "metadata": {},
   "source": [
    "A unique trigram here is the mention of the prime minister Narendra Modi. At this time there is no conspiracy theory he is heavily involved/mentioned alongside with, so a KWIC analysis will be helpful here."
   ]
  },
  {
   "cell_type": "markdown",
   "metadata": {},
   "source": [
    "It is useful to be able to refer to one document that contains all the text, so I will quickly write out a file that consists of only the text portion of each publication."
   ]
  },
  {
   "cell_type": "code",
   "execution_count": 15,
   "metadata": {},
   "outputs": [],
   "source": [
    "## write out one doc titled dt_doc that consists of solely the texts from each publication\n",
    "ht_single_text_list=[]\n",
    "\n",
    "for article in ht_corp:\n",
    "    if article.get('tokens'):\n",
    "        ht_single_text_list.append(article['text'])\n",
    "\n",
    "ht_doc = '\\n---\\n'.join(ht_single_text_list)\n",
    "with open('../data/text/hindustan_times/ht_composite_text.txt','w') as out:\n",
    "    out.write(ht_doc)"
   ]
  },
  {
   "cell_type": "code",
   "execution_count": 16,
   "metadata": {},
   "outputs": [],
   "source": [
    "ht_comp_toks = tokenize(ht_doc, lowercase=True, strip_chars=characters_to_remove)\n",
    "ht_comp_toks_dist = Counter(ht_comp_toks)"
   ]
  },
  {
   "cell_type": "code",
   "execution_count": 17,
   "metadata": {
    "scrolled": true
   },
   "outputs": [
    {
     "name": "stdout",
     "output_type": "stream",
     "text": [
      "term                Hindustan Times Freq\tNorm Freq\n",
      "==============================================================\n",
      "laboratory          74    \t\t\t1.94\n",
      "lab                 102   \t\t\t2.68\n",
      "bioweapon           0     \t\t\t0.0\n",
      "market              105   \t\t\t2.76\n",
      "military            62    \t\t\t1.63\n",
      "cold-chain          3     \t\t\t0.08\n",
      "conspiracy          25    \t\t\t0.66\n",
      "army                39    \t\t\t1.02\n",
      "detrick             3     \t\t\t0.08\n",
      "transparency        50    \t\t\t1.31\n",
      "origins             174   \t\t\t4.57\n",
      "wuhan               322   \t\t\t8.45\n",
      "theory              33    \t\t\t0.87\n",
      "narendra            109   \t\t\t2.86\n"
     ]
    }
   ],
   "source": [
    "print(\"{: <20}{: <6}\\t{}\".format('term','Hindustan Times Freq', 'Norm Freq'))\n",
    "print(\"=\"*62)\n",
    "origin_terms = ['laboratory','lab','bioweapon','market','military','cold-chain','conspiracy','army','detrick', 'transparency','origins','wuhan','theory','narendra']\n",
    "for term in origin_terms:\n",
    "    print(\"{: <20}{: <6}\\t\\t\\t{}\".format(term, ht_token_dist[term], round((ht_token_dist[term]/len(ht_comp_toks)*10000),2)))"
   ]
  },
  {
   "cell_type": "markdown",
   "metadata": {},
   "source": [
    "As with all four other sources, Wuhan has the highest frequency of the origin terms. It is followed by, unsurprisingly, the word origins, market, and lab. The Hindustan Times does mention cold-chain and Fort Detrick, albeit only 3 times each (likely just one article). There is no mention of the bioweapon theory but heavy emphasis on the lab theory. Interestingly we see the frequent mention of the prime minister, which although likely unrelated to any conspiracy theory is worth further investigation."
   ]
  },
  {
   "cell_type": "code",
   "execution_count": 18,
   "metadata": {},
   "outputs": [
    {
     "name": "stdout",
     "output_type": "stream",
     "text": [
      "                       virus came from a  laboratory  more than 38 million\n",
      "              probably originated from a  laboratory  in wuhan authorities shut\n",
      "             authorities shut a shanghai  laboratory  a day after its\n",
      "              nccs and national chemical  laboratory  csir-ncl also conducted their\n",
      "                      been leaked from a  laboratory  we share the need\n",
      "                   covid-19 began from a  laboratory  leak and also rebuked\n",
      "                    has concluded that a  laboratory  leak is the least\n",
      "                       been created in a  laboratory  and leaked from a\n",
      "                          could not be a  laboratory  construct or purposefully manipulated\n",
      "                          it came from a  laboratory  researching bats in wuhan\n",
      "                     have emerged from a  laboratory  at the fort detrick\n",
      "                         role in the mrc  laboratory  of molecular biology in\n",
      "                        wuhan was from a  laboratory  you know it escaped\n",
      "                          worked on in a  laboratory  to infect a laboratory\n",
      "                  laboratory to infect a  laboratory  worker there have been\n",
      "                    workers at the wuhan  laboratory  had fallen sick in\n",
      "                     food; and finally a  laboratory  that researches viruses in\n",
      "                     local travel to the  laboratory  the order read testing\n",
      "                       in contact with a  laboratory  positive case direct and\n",
      "              in a government controlled  laboratory  in wuhan and asserted\n",
      "                       been created in a  laboratory  that the two sides\n",
      "trained techniciansandinvestigatorsneededto safelyoperatethis high-containment  laboratory  though the lab in\n",
      "           and national high containment  laboratory  for animal diseases control\n",
      "                  concept and testing in  laboratory  animal models at uw-madison\n",
      "                    created in a chinese  laboratory  as a possible biological\n",
      "                        an accident at a  laboratory  in wuhan the source\n",
      "                       been created in a  laboratory  a possibility that was\n",
      "             bio-engineered origins in a  laboratory  somewhere in china but\n",
      "                        but created in a  laboratory  echoing a charge that\n",
      "    safely operate this high-containment  laboratory  and though the lab\n",
      "                        an accident at a  laboratory  in wuhan the trump\n",
      "               findings suggest that the  laboratory  hypothesis is extremely unlikely\n",
      "                  concept and testing in  laboratory  animal models at uw-madison\n",
      "    safely operate this high-containment  laboratory  and though the lab\n",
      "                        an accident at a  laboratory  in wuhan the trump\n",
      "                  concept and testing in  laboratory  animal models at uw-madison\n",
      "           and national high containment  laboratory  for animal diseases control\n",
      "              probably originated from a  laboratory  in wuhan authorities shut\n",
      "             authorities shut a shanghai  laboratory  a day after its\n",
      "                        or produced in a  laboratory  us president donald trump\n",
      "                  sars-cov-2 should be a  laboratory  product created by using\n",
      "               conveniently created in a  laboratory  in a short period\n",
      "               virologist from a chinese  laboratory  that's at the centre\n",
      "                       been created in a  laboratory  and leaked from a\n",
      "                          could not be a  laboratory  construct or purposefully manipulated\n",
      "                     sars-cov-2 is not a  laboratory  construct or a purposefully\n",
      "                     sars-cov-2 is not a  laboratory  construct or a purposefully\n",
      "                 virus' leakage from the  laboratory  under the extremely unlikely\n",
      "                     sars-cov-2 is not a  laboratory  construct or a purposefully\n",
      "                        wuhan was from a  laboratory  you know it escaped\n",
      "                          worked on in a  laboratory  to infect a laboratory\n",
      "                  laboratory to infect a  laboratory  worker there have been\n",
      "                    workers at the wuhan  laboratory  had fallen sick in\n",
      "                     food; and finally a  laboratory  that researches viruses in\n",
      "                     into contact with a  laboratory  positive case close to\n",
      "                        or produced in a  laboratory  ls staffer kin of\n",
      "                          it came from a  laboratory  researching bats in wuhan\n",
      "                     into contact with a  laboratory  positive case close to\n",
      "                       test at a private  laboratory  in delhi kerala where\n",
      "           virus research and diagnostic  laboratory  vrdl based in kgmu\n",
      "        in classified research including  laboratory  animal experiments on behalf\n",
      "                 'leaked' from a chinese  laboratory  in wuhan instead the\n",
      "                        wuhan was from a  laboratory  you know it escaped\n",
      "                          worked on in a  laboratory  to infect a laboratory\n",
      "                  laboratory to infect a  laboratory  worker there have been\n",
      "                    workers at the wuhan  laboratory  had fallen sick in\n",
      "                     food; and finally a  laboratory  that researches viruses in\n",
      "the sars-cov2 genomesuggesting sophisticated  laboratory  modification rather than natural\n",
      "                       was man-made in a  laboratory  the paper was uploaded\n",
      "                            a virus in a  laboratory  could take only six\n",
      "                at nasa's jet propulsion  laboratory  jpl in southern california\n",
      "                   at the jet propulsion  laboratory  in california in a\n",
      "                  on nasa's mars science  laboratory  curiosity rover mission for\n",
      "                     into contact with a  laboratory  positive case close to\n"
     ]
    }
   ],
   "source": [
    "print_kwic(make_kwic('laboratory',ht_comp_toks))"
   ]
  },
  {
   "cell_type": "code",
   "execution_count": 19,
   "metadata": {
    "scrolled": false
   },
   "outputs": [
    {
     "name": "stdout",
     "output_type": "stream",
     "text": [
      "         originated from a high-security  lab  in wuhan we have\n",
      "               mike pompeo the dangerous  lab  research in wuhan may\n",
      "        coronavirus sample destroyed its  lab  samples just think -\n",
      "                     virus leaked from a  lab  although the team has\n",
      "                     us is probing china  lab  link us president donald\n",
      "            escaped the chinese virology  lab  in wuhan robert r\n",
      "                  been reports that some  lab  workers at the wuhan\n",
      "                     came from the wuhan  lab  i am a virologist;\n",
      "                  leaked from a virology  lab  in wuhan - and\n",
      "                     based on that after  lab  modification becomes a novel\n",
      "                  accident at a virology  lab  in wuhan officials of\n",
      "  high-containment laboratory though the  lab  in wuhan couldstudysars-likecoronaviruses extracted\n",
      "the trump administrationhasn'tpushedthe wuhan  lab  origin theory much but\n",
      "                        human cells in a  lab  lead researcher nikolai petrovsky\n",
      "                      study was based on  lab  experiments and not real-life\n",
      "               against the flu kawaoka's  lab  will insert gene sequences\n",
      "             that establishes a virology  lab  in wuhan is the\n",
      "                     origin to the wuhan  lab  with a high degree\n",
      "                        it was the wuhan  lab  he demurred saying i\n",
      "                    started at the wuhan  lab  and has blamed a\n",
      "                     china and the wuhan  lab  has clearly not been\n",
      "              in a high-security biology  lab  in wuhan institute of\n",
      "                        human cells in a  lab  lead researcher nikolai petrovsky\n",
      "                    with the scenario of  lab  'gain-of-function' research followed by\n",
      "                  research followed by a  lab  accident ebright told ht\n",
      "                        an incident in a  lab  is thin in the\n",
      "                         unheard of in a  lab  due to cross-contamination then\n",
      "                  leaked from a virology  lab  in wuhan - and\n",
      "                          to do with the  lab  she said on social\n",
      "                      result of a failed  lab  experiment a study conducted\n",
      "                          was grown in a  lab  the survey indicated 43%\n",
      "            most advanced virus research  lab  in wuhan on wednesday\n",
      "                leak from the bio-safety  lab  questions also remain about\n",
      "               hubei province and toured  lab  facilities and held in-depth\n",
      "          chinese authorities closed his  lab  for rectification as even\n",
      "                   closure of dr zhang's  lab  and his assertion that\n",
      "                  accident at a virology  lab  in wuhan a chinese\n",
      "                          a visit to the  lab  had raised concerns in\n",
      "               laboratory and though the  lab  could conduct study sars-like\n",
      "                   prove or disprove the  lab  origin theory of the\n",
      "                started from the chinese  lab  secretary of state mike\n",
      "                      has not pushed the  lab  theory much in recent\n",
      "               against the flu kawaoka's  lab  will insert gene sequences\n",
      "                  accident at a virology  lab  in wuhan a chinese\n",
      "                          a visit to the  lab  had raised concerns in\n",
      "               laboratory and though the  lab  could conduct study sars-like\n",
      "                   prove or disprove the  lab  origin theory of the\n",
      "                started from the chinese  lab  secretary of state mike\n",
      "                      has not pushed the  lab  theory much in recent\n",
      "assistant professor evolutionary venomics  lab  at centre for ecological\n",
      "               against the flu kawaoka's  lab  will insert gene sequences\n",
      "                   instead at a virology  lab  in the same city\n",
      "                      began at the wuhan  lab  he has not shared\n",
      "              in a high-security biology  lab  in wuhan institute of\n",
      "                        human cells in a  lab  lead researcher nikolai petrovsky\n",
      "                    with the scenario of  lab  'gain-of-function' research followed by\n",
      "                  research followed by a  lab  accident ebright told ht\n",
      "                         unheard of in a  lab  due to cross contamination\n",
      "                      study was based on  lab  experiments and not real-life\n",
      "               mike pompeo the dangerous  lab  research in wuhan may\n",
      "        coronavirus sample destroyed its  lab  samples just think -\n",
      "                   virus emanated from a  lab  in wuhan where the\n",
      "                     or constructed in a  lab  or somewhere else who\n",
      "            inadvertently escaped from a  lab  the wuhan institute of\n",
      "              coronavirus escaped from a  lab  - a theory that\n",
      "               at atlantic council's dfr  lab  a research group exploring\n",
      "                     been developed in a  lab  - a notion that\n",
      "                        virus could be a  lab  creation calling it also\n",
      "                          to do with the  lab  she said on the\n",
      "                  leaked from a virology  lab  in wuhan about two-thirds\n",
      "               at atlantic council's dfr  lab  a research group exploring\n",
      "              accidentally leaked from a  lab  in wuhan city where\n",
      "           conspiracy theories about the  lab  origin of the virus\n",
      "              accidentally leaked from a  lab  in wuhan city where\n",
      "              in a high-security biology  lab  in wuhan institute of\n",
      "                        human cells in a  lab  lead researcher nikolai petrovsky\n",
      "                    with the scenario of  lab  'gain-of-function' research followed by\n",
      "                  research followed by a  lab  accident ebright told ht\n",
      "                        an incident in a  lab  is thin in the\n",
      "                         unheard of in a  lab  due to cross-contamination then\n",
      "                   every area except the  lab  leak hypothesis it also\n",
      "                 started from a virology  lab  in wuhan the city\n",
      "              accidentally leaked from a  lab  in wuhan city where\n",
      "           conspiracy theories about the  lab  origin of the virus\n",
      "               from the chinese virology  lab  in wuhan robert r\n",
      "                  been reports that some  lab  workers at the wuhan\n",
      "                     came from the wuhan  lab  i am a virologist;\n",
      "               at atlantic council's dfr  lab  a research group exploring\n",
      "                     us is probing china  lab  link us president donald\n",
      "                           was made in a  lab  your voice may be\n",
      "                      rt-pcr test from a  lab  authorised by indian council\n",
      "                          was grown in a  lab  the survey indicated 43%\n",
      "                  leaked from a virology  lab  in wuhan - and\n",
      "                    unlikely there was a  lab  incident she said incidentally\n",
      "            escaped the chinese virology  lab  in wuhan robert r\n",
      "                  been reports that some  lab  workers at the wuhan\n",
      "                     came from the wuhan  lab  i am a virologist;\n",
      "                         the result of a  lab  accident at the wuhan\n",
      "                  researchers at a wuhan  lab  get infected and die\n",
      "                    came from a virology  lab  in that city published\n",
      "          chinese authorities closed his  lab  for rectification as even\n",
      "                   closure of dr zhang's  lab  and his assertion that\n"
     ]
    }
   ],
   "source": [
    "print_kwic(make_kwic('lab',ht_comp_toks))"
   ]
  },
  {
   "cell_type": "markdown",
   "metadata": {},
   "source": [
    "Heavy emphasis on the lab leak theory, mentioning the Wuhan virology lab. Some instances appear to denounce the theory, others less so."
   ]
  },
  {
   "cell_type": "code",
   "execution_count": 20,
   "metadata": {
    "scrolled": true
   },
   "outputs": [
    {
     "name": "stdout",
     "output_type": "stream",
     "text": [
      "                novel coronavirus has us  military  origins by citing a\n",
      "                   followers that the us  military  might be behind the\n",
      "                           us and the us  military  or imported frozen packaged\n",
      "                     that accused the us  military  of starting the coronavirus\n",
      "                for reciprocal access to  military  logisticsduringavirtualsummit last month australia\n",
      "                     the backdrop of the  military  standoff with china that\n",
      "                for reciprocal access to  military  logistics facilities and other\n",
      "                     that accused the us  military  of starting the coronavirus\n",
      "                for reciprocal access to  military  logistics facilities and other\n",
      "                      based on the china  military  institute that discovered and\n",
      "               power politics - building  military  infrastructure conducting naval exercises\n",
      "           defence cooperation by closer  military  to military cooperation rajnath\n",
      "                   by closer military to  military  cooperation rajnath singh also\n",
      "                   us lawmakers amid its  military  standoff with china mitch\n",
      "              mcconnell said the chinese  military  appeared to have instigated\n",
      "                  vehicle of the central  military  commission of china to\n",
      "                 the neighbours amidst a  military  build-up on both sides\n",
      "                for reciprocal access to  military  logistics during a virtual\n",
      "         facilitate reciprocal access to  military  logistics facilities allow for\n",
      "                  for more complex joint  military  exercises and improve interoperability\n",
      "        china with iron-curtain efficacy  military  ruthlessness and logistical prowess\n",
      "                for reciprocal access to  military  logistics during a virtual\n",
      "         facilitate reciprocal access to  military  logistics facilities allow for\n",
      "                  for more complex joint  military  exercises and improve interoperability\n",
      "                           us and the us  military  or imported frozen packaged\n",
      "                              i am not a  military  type coach like many\n",
      "               all ongoing contracts for  military  supplies will proceed as\n",
      "                         than 60% of the  military  hardware used by the\n",
      "                   honour that an indian  military  contingent will be marching\n",
      "                           us and the us  military  or imported frozen packaged\n",
      "                     that accused the us  military  of starting the coronavirus\n",
      "                deployment in ladakh the  military  wanted to be prepared\n",
      "             game-changer for the indian  military  which otherwise relied on\n",
      "                  the chinook helped the  military  transport troops artillery equipment\n",
      "                         to blame the us  military  for the spread of\n",
      "                     that accused the us  military  of starting the coronavirus\n",
      "                          city by the us  military  in context of reports\n",
      "                which were discovered by  military  laboratories - one in\n",
      "                        one in the third  military  medical university chongqing china\n",
      "                         to blame the us  military  for the spread of\n",
      "           through both their front-line  military  units and their respective\n",
      "                  of talks between local  military  commanders have failed to\n",
      "                     that accused the us  military  of starting the coronavirus\n",
      "               power politics - building  military  infrastructure conducting naval exercises\n",
      "               planes during his 22-year  military  career published by ht\n",
      "                 benefits to the chinese  military  the us president said\n",
      "                         might be the us  military  that brought the coronavirus\n",
      "         dealing with china's aggressive  military  behaviour in eastern ladakh\n",
      "          cooperation between the indian  military  and us central command\n",
      "                    the convening of the  military  cooperation group mcg later\n",
      "                   in response to purely  military  developments christopher clary assistant\n",
      "               reflection of its growing  military  capabilities and its attempts\n",
      "                          city by the us  military  in context of reports\n",
      "                for reciprocal access to  military  logistics during a virtual\n",
      "               all ongoing contracts for  military  supplies will proceed as\n",
      "                         than 60% of the  military  hardware used by the\n",
      "                   sign that the ongoing  military  standoff is unlikely to\n",
      "           recent foreign ministers' and  military  talks held between india\n",
      "     co-development and co-production of  military  hardware they also agreed\n",
      "               research there and secret  military  activity at the institute\n",
      "            secret projects with china's  military  the wiv has engaged\n",
      "                   behalf of the chinese  military  since at least 2017\n"
     ]
    }
   ],
   "source": [
    "print_kwic(make_kwic('military',ht_comp_toks))"
   ]
  },
  {
   "cell_type": "code",
   "execution_count": 21,
   "metadata": {
    "scrolled": true
   },
   "outputs": [
    {
     "name": "stdout",
     "output_type": "stream",
     "text": [
      "                website known to promote  conspiracy  theories to bolster his\n",
      "          ministry officials even shared  conspiracy  theories that accused the\n",
      "                    last year - plugging  conspiracy  theories about the origin\n",
      "          ministry officials even shared  conspiracy  theories that accused the\n",
      "               epidemic and for criminal  conspiracy  union home minister amit\n",
      "                       which grew into a  conspiracy  theory was that the\n",
      "                  to murder and criminal  conspiracy  were added to the\n",
      "          the centre of covid-19-related  conspiracy  theories because of her\n",
      "                remove false content and  conspiracy  theories about covid-19 that\n",
      "             and some celebrities spread  conspiracy  theories about its origins\n",
      "          ministry officials even shared  conspiracy  theories that accused the\n",
      "                          is the rise of  conspiracy  theories around the issue\n",
      "          ministry officials even shared  conspiracy  theories that accused the\n",
      "                        at the centre of  conspiracy  theories on the origin\n",
      "                          is the rise of  conspiracy  theories around the issue\n",
      "        nature medicine study dismissing  conspiracy  theories about the lab\n",
      "          ministry officials even shared  conspiracy  theories that accused the\n",
      "        nature medicine study dismissing  conspiracy  theories about the lab\n",
      "                          is the rise of  conspiracy  theories around the issue\n",
      "               epidemic and for criminal  conspiracy  home minister amit shah\n",
      "                   said that contrary to  conspiracy  theories there currently is\n",
      "                    the focus of several  conspiracy  theories and unfounded speculations\n",
      "                     says draws from the  conspiracy  theories surrounding the origin\n",
      "                       there are so many  conspiracy  theories surrounding the origin\n",
      "               epidemic and for criminal  conspiracy  union home minister amit\n"
     ]
    }
   ],
   "source": [
    "print_kwic(make_kwic('conspiracy',ht_comp_toks))"
   ]
  },
  {
   "cell_type": "markdown",
   "metadata": {},
   "source": [
    "A majority of these cite conspiracy theories but there are interesting mentions of sources. For example, there is a \"website known to promote conspiracy theories\", \"some celebrities spread conspiracy theories about its origins\", and also a Nature Medicine study \"dismissing the theories\". This was not seen in the other sources in that there are mentions of how these theories are propagating."
   ]
  },
  {
   "cell_type": "code",
   "execution_count": 22,
   "metadata": {
    "scrolled": true
   },
   "outputs": [
    {
     "name": "stdout",
     "output_type": "stream",
     "text": [
      "                          it might be us  army  who brought the epidemic\n",
      "                     at the fort detrick  army  medical command in the\n",
      "         chinese pla people's liberation  army  has escalated border tensions--we\n",
      "          contested border twenty indian  army  soldiers and an undisclosed\n",
      "                  samant goel and indian  army  chief gen mm naravane\n",
      "                      are fighting as an  army  vipin krishnan who has\n",
      "                    you are a nonviolent  army  gandhi said in his\n",
      "                         the team at the  army  camp however the army\n",
      "                   army camp however the  army  will be taking care\n",
      "                    to assist the soviet  army  therefore it is a\n",
      "        when china's people's liberation  army  pla soldiers adopted an\n",
      "                  out of kalapani indian  army  chief general mm navrane's\n",
      "                 detail at the three-day  army  commanders' conference that began\n",
      "              level leadership of indian  army  will brainstorm on current\n",
      "                   future course for the  army  an army spokesperson said\n",
      "                         for the army an  army  spokesperson said on tuesday\n",
      "                  out of kalapani indian  army  chief general mm navrane's\n",
      "                member at the mhow-based  army  war college published a\n",
      "                   wzc beijing would the  army  officer argued seek to\n",
      "           where the people's liberation  army  pla would focus on\n",
      "                      the pla the senior  army  officer said in his\n",
      "                    phases as the indian  army  chief now general manoj\n",
      "                isr capabilities the top  army  officer was clear that\n",
      "              eastern ladakh the chinese  army  had built roads right\n",
      "                   past weeks the indian  army  is also staring at\n",
      "                    not allowing the red  army  to brow beat them\n",
      "                 however with the indian  army  digging into its positions\n",
      "               triumph hadr exercise and  army  exercises yudh abhyas and\n",
      "                  of his performance for  army  jawans netizens love it\n",
      "             engineer regiment of indian  army  read more sasikala's grand\n",
      "             technology: with the indian  army  now sustaining fatalities in\n",
      "                 mention that the indian  army  indian navy indian air\n",
      "                while blaming the indian  army  for the ongoing tension\n",
      "                    this year the indian  army  has continued to arrive\n",
      "             lac the people's liberation  army  pla is attempting to\n",
      "          hand-to-hand clash with indian  army  soldiers on june 15\n",
      "                         the team at the  army  camp however the army\n",
      "                   army camp however the  army  will be taking care\n",
      "                      in which 20 indian  army  personnel were killed data\n"
     ]
    }
   ],
   "source": [
    "print_kwic(make_kwic('army',ht_comp_toks))"
   ]
  },
  {
   "cell_type": "code",
   "execution_count": 23,
   "metadata": {
    "scrolled": false
   },
   "outputs": [
    {
     "name": "stdout",
     "output_type": "stream",
     "text": [
      "            international probe into the  origins  of the pandemic and\n",
      "            international probe into the  origins  of the pathogen and\n",
      "               year hashimoto's name has  origins  in olympic flame her\n",
      "             coronavirus has us military  origins  by citing a story\n",
      "          international inquiry into the  origins  and spread of the\n",
      "                      china has said the  origins  of the virus are\n",
      "             chinese scientists into the  origins  of the virus? it\n",
      "            independent inquiry into the  origins  and spread of the\n",
      "       international assessment into the  origins  of the pandemic the\n",
      "               whilst masking the funds'  origins  fatf says in the\n",
      "                      and china over the  origins  and handling of the\n",
      "               whilst masking the funds'  origins  fatf said in the\n",
      "         to comprehensively evaluate the  origins  of covid-19 after eu\n",
      "                       who report on the  origins  of the coronavirus disease\n",
      "              long-awaited report on the  origins  of covid-19 on tuesday\n",
      "                  undue influence of the  origins  of the pandemic bagchi\n",
      "                step in establishing the  origins  of the pandemic as\n",
      "           join investigations to search  origins  of covid-19 published by\n",
      "                threshold which laid the  origins  for nyay similar to\n",
      "             covid-19 indeed had natural  origins  based on publicly available\n",
      "           join investigations to search  origins  of covid-19 published by\n",
      "           join investigations to search  origins  of covid-19 published by\n",
      "               an investigation into the  origins  of the coronavirus pandemic\n",
      "                     and analysis of the  origins  characteristics and spread of\n",
      "                   us to investigate the  origins  foreign ministry spokesperson hua\n",
      "                china to investigate the  origins  of the coronavirus which\n",
      "           join investigations to search  origins  of covid-19 published by\n",
      "   such as the whoandsoughtaprobeintothe  origins  of the pandemic duringameetingoftheusand\n",
      "                       in france had its  origins  in pakistan despite the\n",
      "                        the case had its  origins  in our western neighbourhood\n",
      "      independent investigation into the  origins  of the covid-19 pandemic\n",
      "      independent investigation into the  origins  of the covid-19 pandemic\n",
      "                          us to know the  origins  of the virus if\n",
      "        sensitive investigation into the  origins  of the covid-19 pandemic\n",
      "           join investigations to search  origins  of covid-19 published by\n",
      "                 russia on the pakistani  origins  of the jaish-e-mohammed jem\n",
      "       clearly indicated their pakistani  origins  said a person familiar\n",
      "         to comprehensively evaluate the  origins  of covid-19 after eu\n",
      "           join investigations to search  origins  of covid-19 published by\n",
      "                  the pandemic which had  origins  in china during gyawali's\n",
      "                    event or whether its  origins  lie elsewhere the four\n",
      "        whether covid-19 has alternative  origins  this information will be\n",
      "                 russia on the pakistani  origins  of the jaish-e-mohammed jem\n",
      "       clearly indicated their pakistani  origins  said a person familiar\n",
      "                    the faith traces its  origins  in up and has\n",
      "                phenomenon - drawing its  origins  and nourishment from the\n",
      "             committees these have their  origins  in the 1950s when\n",
      "    international investigation into the  origins  of the covid-19 pandemic\n",
      "                     note alluded to the  origins  of the english word\n",
      "                        a probe into the  origins  of the covid-19 pandemic\n",
      "               whilst masking the funds'  origins  fatf said in the\n",
      "                    event or whether its  origins  lie elsewhere a team\n",
      "                  more research into the  origins  of the coronavirus of\n",
      "        whether covid-19 has alternative  origins  this information will be\n",
      "            enquiry into the coronavirus  origins  a top chinese official\n",
      "                        and this has its  origins  partly in the fact\n",
      "           join investigations to search  origins  of covid-19 published by\n",
      "                     and analysis of the  origins  characteristics and spread of\n",
      "                     action refer to the  origins  of the virus much\n",
      "                     and analysis of the  origins  characteristics and spread of\n",
      "                    of india found their  origins  in nizamuddin said heritage\n",
      "             who embraced his small-town  origins  read more amazon flipkart\n",
      "           join investigations to search  origins  of covid-19 published by\n",
      "         theory about its bio-engineered  origins  in a laboratory somewhere\n",
      "           join investigations to search  origins  of covid-19 published by\n",
      "                    of india found their  origins  in nizamuddin said heritage\n",
      "                        a probe into the  origins  of the covid-19 pandemic\n",
      "               the covid-19 pandemic its  origins  and how each has\n",
      "                  this tradition has its  origins  in the durga pujas\n",
      "                  sowing doubt about the  origins  of the covid-19 virus\n",
      "                    the faith traces its  origins  in up and has\n",
      "    international investigation into the  origins  of the covid-19 pandemic\n",
      "         to comprehensively evaluate the  origins  of covid-19 after eu\n",
      "                positive are those whose  origins  are known to us\n",
      "           join investigations to search  origins  of covid-19 published by\n",
      "                  ongoing probe into the  origins  of the covid-19 pandemic\n",
      "           conspiracy theories about its  origins  the kind of content\n",
      "         to comprehensively evaluate the  origins  of covid-19 after eu\n",
      "                      time to recall its  origins  when italy's giuseppe 'nino'\n",
      "                       the virus and its  origins  and to this day\n",
      "      independent investigation into the  origins  of the virus despite\n",
      "               an investigation into the  origins  of the virus which\n",
      "                is currently probing the  origins  of the virus that\n",
      "              tablighi jamaat traces its  origins  to the mewat region\n",
      "               history said the jamaat's  origins  in mewat could be\n",
      "                     although it has its  origins  in microbes carried by\n",
      "                      nipah and zika has  origins  in excessive human influence\n",
      "                 one seeing the zoonotic  origins  of this virus end\n",
      "                  over 71% have wildlife  origins  there is no doubt\n",
      "           join investigations to search  origins  of covid-19 published by\n",
      "                    event or whether its  origins  lie elsewhere the four\n",
      "                  more research into the  origins  of the coronavirus of\n",
      "        whether covid-19 has alternative  origins  this information will be\n",
      "         afro-caribbean and other racial  origins  to volunteer for ongoing\n",
      "                tracing and studying the  origins  of the virus the\n",
      "          international inquiry into the  origins  of the virus saying\n",
      "    international investigation into the  origins  of the covid-19 virus\n",
      "          international inquiry into the  origins  and spread of the\n",
      "                      china has said the  origins  of the virus are\n",
      "             chinese scientists into the  origins  of the virus? it\n",
      "            independent inquiry into the  origins  and spread of the\n",
      "          international inquiry into the  origins  and spread of the\n",
      "           join investigations to search  origins  of covid-19 published by\n",
      "                 who-backed study on the  origins  of the covid-19 outbreak\n",
      "                  undue influence of the  origins  of the covid-19 pandemic\n",
      "         to comprehensively evaluate the  origins  of covid-19 after eu\n",
      "                 cover-up of the virus's  origins  i decided to report\n",
      "                     joint report on the  origins  of covid-19 following which\n",
      "                 global tracing of virus  origins  was first conducted here\n",
      "             covid-19 indeed had natural  origins  based on publicly available\n",
      "                   based on the national  origins  of the vaccines that\n",
      "                   term referring to its  origins  in china he also\n",
      "                   produce and while the  origins  of coronavirus remain obscure\n",
      "                   pandemic that has its  origins  in central china's wuhan\n",
      "         to comprehensively evaluate the  origins  of covid-19 after eu\n",
      "                     joint report on the  origins  of covid-19 following which\n",
      "                 global tracing of virus  origins  was first conducted here\n",
      "                    event or whether its  origins  lie elsewhere a team\n",
      "                  more research into the  origins  of the coronavirus of\n",
      "        whether covid-19 has alternative  origins  this information will be\n",
      "          prevented' probe into covid-19  origins  says us as who\n",
      "                    the faith traces its  origins  in up and has\n",
      "                       of words over the  origins  of historic figures such\n",
      "                    came from the animal  origins  may take a very\n",
      "                          go back to the  origins  the who's china head\n",
      "                        the world on the  origins  of the epidemic which\n",
      "       scientific investigation into the  origins  of a pandemic should\n",
      "     spread misinformation regarding the  origins  of the covid-19 pandemic\n",
      "             regional and global weather  origins  in the indian ocean\n",
      "                ncr districts have their  origins  in infections emanating from\n",
      "                      china to probe the  origins  of the disease the\n",
      "       scientific investigation into the  origins  of a pandemic should\n",
      "                who investigation on the  origins  of covid-19 whether it\n",
      "                china's probe into virus  origins  the world health organization\n",
      "          investigations into the animal  origins  of the novel coronavirus\n",
      "            independent inquiry into the  origins  of the covid-19 virus\n",
      "                        a probe into the  origins  of the pandemic during\n",
      "               an investigation into the  origins  of the coronavirus pandemic\n",
      "         to comprehensively evaluate the  origins  of covid-19 after eu\n",
      "                        is a single word  origins  says one; immunity says\n",
      "                and statements about the  origins  of the coronavirus trump\n",
      "                   exchequer in 2017 the  origins  of the suez canal\n",
      "           join investigations to search  origins  of covid-19 published by\n",
      "    international investigation into the  origins  of the covid-19 pandemic\n",
      "                      nipah and zika has  origins  in excessive human influence\n",
      "              report on covid-19's china  origins  says trump president donald\n",
      "               government on the chinese  origins  of the coronavirus outbreak\n",
      "                       point in time the  origins  of the ongoing global\n",
      "                      time to recall its  origins  when italy's giuseppe 'nino'\n",
      "            independent inquiry into the  origins  of the covid-19 virus\n",
      "                china to investigate the  origins  of covid-19 who investigators\n",
      "         to comprehensively evaluate the  origins  of covid-19 after eu\n",
      "           join investigations to search  origins  of covid-19 published by\n",
      "                       of words over the  origins  of historic figures such\n",
      "                    their probe into the  origins  of the covid-19 virus\n",
      "           probe the covid-19 pandemic's  origins  said that contrary to\n",
      "           unfounded speculations on the  origins  of the virus partly\n",
      "            enquiry into the coronavirus  origins  a top chinese official\n",
      "            investigation into the wuhan  origins  of the covid-19 pandemic\n",
      "                    country to trace the  origins  of the coronavirus pandemic\n",
      "         to comprehensively evaluate the  origins  of covid-19 after eu\n",
      "                       the virus and its  origins  and to this day\n",
      "      independent investigation into the  origins  of the virus despite\n",
      "               an investigation into the  origins  of the virus which\n",
      "             chinese scientists into the  origins  of the virus authorities\n",
      "                 one seeing the zoonotic  origins  of this virus end\n",
      "                   - invoking his humble  origins  in bihar and went\n",
      "                    country to trace the  origins  of the coronavirus which\n",
      "                   thursday to probe the  origins  of the covid-19 disease\n",
      "         to comprehensively evaluate the  origins  of covid-19 after eu\n",
      "    international investigation into the  origins  of the covid-19 pandemic\n",
      "    international investigation into the  origins  of the covid-19 pandemic\n",
      "             fact-finding mission on the  origins  of the coronavirus read\n",
      "             evolving for centuries with  origins  that stretch back hundreds\n"
     ]
    }
   ],
   "source": [
    "print_kwic(make_kwic('origins',ht_comp_toks))"
   ]
  },
  {
   "cell_type": "markdown",
   "metadata": {},
   "source": [
    "Notable dichotomy of the independent investigations of the origins and the joint international investigations! Mentions of China's probe into the origins."
   ]
  },
  {
   "cell_type": "code",
   "execution_count": 24,
   "metadata": {
    "scrolled": true
   },
   "outputs": [
    {
     "name": "stdout",
     "output_type": "stream",
     "text": [
      "              germany have urged greater  transparency  from china until now\n",
      "                   also offered the same  transparency  that marked the rest\n",
      "                         to the need for  transparency  and accountability china which\n",
      "                   effort to bring about  transparency  and accountability for the\n",
      "            thursday called for complete  transparency  in the reporting of\n",
      "                   the need for complete  transparency  and the timely sharing\n",
      "                         to the need for  transparency  and accountability china which\n",
      "                   effort to bring about  transparency  and accountability for the\n",
      "         countries on accountability and  transparency  on the origin of\n",
      "                       need to stress on  transparency  and accountability for the\n",
      "                 disease the emphasis on  transparency  and accountability at this\n",
      "      inclusive indo-pacific respect for  transparency  strengthening and diversifying supply\n",
      "                   the need for complete  transparency  and the timely sharing\n",
      "         countries on accountability and  transparency  on the origin of\n",
      "                       need to stress on  transparency  and accountability for the\n",
      "               worldwide the emphasis on  transparency  and accountability at this\n",
      "                      the working of the  transparency  watchdogs the central information\n",
      "                 another report filed by  transparency  international india on the\n",
      "           the government response which  transparency  law activists said is\n",
      "          standing committee should take  transparency  and federalism into account\n",
      "      inclusive indo-pacific respect for  transparency  strengthening and diversifying supply\n",
      "             monday shi defended china's  transparency  in handling the outbreak\n",
      "             fallout if they underscored  transparency  and accountability from the\n",
      "                         gave a boost to  transparency  in a tweet on\n",
      "                         gave a boost to  transparency  and that the outcomes\n",
      "                had acted with 'openness  transparency  and responsibility' when the\n",
      "                     who is committed to  transparency  accountability and continuous improvement\n",
      "                          a great act of  transparency  but the world health\n",
      "              chinese government for its  transparency  with respect to the\n",
      "                   china for its alleged  transparency  you have consistently joined\n",
      "                         to the need for  transparency  and accountability china which\n",
      "                   effort to bring about  transparency  and accountability for the\n",
      "                 lack of cooperation and  transparency  from china with naming\n",
      "                 member states to access  transparency  and timeliness published by\n",
      "                         to the need for  transparency  and accountability china which\n",
      "                   effort to bring about  transparency  and accountability for the\n",
      "             monday shi defended china's  transparency  in handling the outbreak\n",
      "                         to the need for  transparency  and accountability china which\n",
      "                   effort to bring about  transparency  and accountability for the\n",
      "               disadvantages are lack of  transparency  arguable accountability and absence\n",
      "                had acted with 'openness  transparency  and responsibility' when the\n",
      "                     who is committed to  transparency  accountability and continuous improvement\n",
      "                       given the lack of  transparency  regarding such investments especially\n",
      "                        the need to seek  transparency  and accountability from these\n",
      "               rule of law inclusiveness  transparency  and level playing field\n",
      "                 by calling for complete  transparency  in the reporting of\n",
      "                          a great act of  transparency  but the world health\n",
      "              chinese government for its  transparency  with respect to the\n",
      "                   china for its alleged  transparency  you have consistently joined\n",
      "                       -- the chorus for  transparency  and investigation into the\n"
     ]
    }
   ],
   "source": [
    "print_kwic(make_kwic('transparency',ht_comp_toks))"
   ]
  },
  {
   "cell_type": "markdown",
   "metadata": {},
   "source": [
    "Notable mentions of the need for transparency and accountability from China, accountability being a common word accompanying. A majority reference the lack of openness and transparency."
   ]
  },
  {
   "cell_type": "code",
   "execution_count": 26,
   "metadata": {
    "scrolled": false
   },
   "outputs": [
    {
     "name": "stdout",
     "output_type": "stream",
     "text": [
      "              to change the virus-origin  theory  and shift the blame\n",
      "            further investigation of the  theory  that covid-19 began from\n",
      "            was transmitted the lab-leak  theory  was viewed as extremely\n",
      "administrationhasn'tpushedthe wuhan lab origin  theory  much but it has\n",
      "             the findings strengthen the  theory  that pangolins could be\n",
      "                   march 17 debunked the  theory  that the sars-cov-2 virus\n",
      "                  grew into a conspiracy  theory  was that the virus\n",
      "                    sort of outbreak one  theory  is that the chinese\n",
      "                      have proposed is a  theory  backed by data and\n",
      "                 resulted in a plausible  theory  about its bio-engineered origins\n",
      "              the researchers made their  theory  public in february 2020\n",
      "              to change the virus-origin  theory  and shift the blame\n",
      "          the bat-hosted coronavirus one  theory  - so far unproven\n",
      "                 disprove the lab origin  theory  of the outbreak i\n",
      "   intelligence community punctured that  theory  the office of the\n",
      "                      not pushed the lab  theory  much in recent days\n",
      "                 disprove the lab origin  theory  of the outbreak i\n",
      "   intelligence community punctured that  theory  the office of the\n",
      "                      not pushed the lab  theory  much in recent days\n",
      "              to change the virus-origin  theory  and shift the blame\n",
      "                               a lab - a  theory  that many experts believe\n",
      "          contradicts the natural origin  theory  said the paper which\n",
      "        peer-reviewed the natural origin  theory  was first reported by\n",
      "              full covid-19 coverage one  theory  is that the chinese\n",
      "                      have proposed is a  theory  backed by data and\n",
      "            was transmitted the lab-leak  theory  was viewed as extremely\n",
      "               he formulated his general  theory  john maynard keynes remains\n",
      "   liberal economists keynes' trickle-up  theory  is seen by them\n",
      "               he formulated his general  theory  john maynard keynes remains\n",
      "   liberal economists keynes' trickle-up  theory  is seen by them\n",
      "            was transmitted the lab-leak  theory  was viewed as extremely\n",
      "               he formulated his general  theory  john maynard keynes remains\n",
      "   liberal economists keynes' trickle-up  theory  is seen by them\n"
     ]
    }
   ],
   "source": [
    "print_kwic(make_kwic('theory',ht_comp_toks))"
   ]
  },
  {
   "cell_type": "markdown",
   "metadata": {},
   "source": [
    "Specific mentions of the lab-leak theory and a natural origin theory, otherwise nothing to significant or out of the ordinary."
   ]
  },
  {
   "cell_type": "code",
   "execution_count": 27,
   "metadata": {
    "scrolled": false
   },
   "outputs": [
    {
     "name": "stdout",
     "output_type": "stream",
     "text": [
      "                    had any contact with  cold-chain  products or with wild\n",
      "                through the packaging of  cold-chain  food products is unlikely\n",
      "               staff and people handling  cold-chain  imported products over 1\n"
     ]
    }
   ],
   "source": [
    "print_kwic(make_kwic('cold-chain',ht_comp_toks))"
   ]
  },
  {
   "cell_type": "markdown",
   "metadata": {},
   "source": [
    "The Hindustan Times sources altogether mentioned cold-chain only 3 times and all reference the frozen imported food products."
   ]
  },
  {
   "cell_type": "code",
   "execution_count": 28,
   "metadata": {
    "scrolled": true
   },
   "outputs": [
    {
     "name": "stdout",
     "output_type": "stream",
     "text": [
      "                  laboratory at the fort  detrick  army medical command in\n",
      "                     please open up fort  detrick  and make public more\n",
      "               the hashtag american's ft  detrick  started by the communist\n"
     ]
    }
   ],
   "source": [
    "print_kwic(make_kwic('detrick',ht_comp_toks))"
   ]
  },
  {
   "cell_type": "markdown",
   "metadata": {},
   "source": [
    "Altogether mentioned Fort Detrick 3 times, one seeming to demand for transparency from the US."
   ]
  },
  {
   "cell_type": "code",
   "execution_count": 29,
   "metadata": {
    "scrolled": false
   },
   "outputs": [
    {
     "name": "stdout",
     "output_type": "stream",
     "text": [
      "       district collector prime minister  narendra  modi expressed anguish over\n",
      "       district collector prime minister  narendra  modi expressed anguish over\n",
      "       in 2014 indian-american physicist  narendra  singh kapany who is\n",
      "                letter to prime minister  narendra  modi and external affairs\n",
      "             into account prime minister  narendra  modi who on tuesday\n",
      "                    25 -- prime minister  narendra  modi wants the g-20\n",
      "                   out in prime minister  narendra  modi's sagar vision or\n",
      "                    28 -- prime minister  narendra  modi on saturday said\n",
      "             hours before prime minister  narendra  modi addresses the nation\n",
      "           president with prime minister  narendra  modi from their joint\n",
      "           summit between prime minister  narendra  modi and his australian\n",
      "             farmers' agitation with the  narendra  modi government read more\n",
      "               aircraft carrier with the  narendra  modi government calling it\n",
      "         video conference prime minister  narendra  modi asserted that his\n",
      "              2 announced prime minister  narendra  modi on tuesday the\n",
      "           summit between prime minister  narendra  modi and his australian\n",
      "            the elections prime minister  narendra  modi goes abroad regularly\n",
      "        several countries prime minister  narendra  modi has directed the\n",
      "              november 20 prime minister  narendra  modi said security forces\n",
      "                 in india prime minister  narendra  modi announced a nationwide\n",
      "              italy backs prime minister  narendra  modi's call made during\n",
      "             helping other countries? pm  narendra  modi has been in\n",
      "                           jan 17 -- the  narendra  modi government has given\n",
      "                to follow prime minister  narendra  modi's call to observe\n",
      "           and describing prime minister  narendra  modi as a good\n",
      "           climate change prime minister  narendra  modi will be invited\n",
      "             hours before prime minister  narendra  modi addressed the nation\n",
      "         said union agriculture minister  narendra  singh tomar said the\n",
      "          help to maldivesprime minister  narendra  modi has been in\n",
      "                     8 -- prime minister  narendra  modi on wednesday condoled\n",
      "              november 20 prime minister  narendra  modi said security forces\n",
      "               know today prime minister  narendra  modi is meeting chief\n",
      "                 ahead of prime minister  narendra  modi's meet with chief\n",
      "                    17 -- prime minister  narendra  modi on late tuesday\n",
      "           president with prime minister  narendra  modi from their joint\n",
      "           summit between prime minister  narendra  modi and his counterpart\n",
      "               more tests prime minister  narendra  modi recommended that ncr\n",
      "                    28 -- prime minister  narendra  modi has told chief\n",
      "        covid-19 outbreak prime minister  narendra  modi told chief ministers\n",
      "             meeting with prime minister  narendra  modi on monday covid-19:\n",
      "              be conveyed prime minister  narendra  modi has managed to\n",
      "           and describing prime minister  narendra  modi as a good\n",
      "               address prime minister pm  narendra  modi also spoke about\n",
      "             confidence in prime minster  narendra  modi's leadership in tackling\n",
      "           summit between prime minister  narendra  modi and his counterpart\n",
      "                 ragnat from new zealand  narendra  singh from australia and\n",
      "                  call of prime minister  narendra  modi and as such\n",
      "            bharat trains prime minister  narendra  modi had flagged off\n",
      "            outreach with prime minister  narendra  modi kicking off the\n",
      "         friday requested prime minister  narendra  modi to run special\n",
      "             betrayal day prime minister  narendra  modi on sunday hailed\n",
      "                   progress read more pm  narendra  modi to initiate projects\n",
      "              in varanasi prime minister  narendra  modi will inaugurate and\n",
      "              letter from prime minister  narendra  modi jaishankar is set\n",
      "       covid-19 infection prime minister  narendra  modi has termed it\n",
      "             into account prime minister  narendra  modi who on tuesday\n",
      "            2020 includes prime minister  narendra  modi actor ayushman khurrana\n",
      "            invitation of prime minister  narendra  modi later this year\n",
      "            revive growth prime minister  narendra  modi who joined an\n",
      "                    28 -- prime minister  narendra  modi on saturday said\n",
      "           macron dialled prime minister  narendra  modi on monday evening\n",
      "         principal scientific adviser to  narendra  modi government told ht\n",
      "         statement during prime minister  narendra  modi's visit to china\n",
      "                    29 -- prime minister  narendra  modi on saturday said\n",
      "      infrastructure when prime minister  narendra  modi and his italian\n",
      "         principal scientific adviser to  narendra  modi government told ht\n",
      "                    jobs of migrants the  narendra  modi government may consider\n",
      "               reached by prime minister  narendra  modi and president xi\n",
      "        pradesh's rohtang prime minister  narendra  modi addressed a public\n",
      "         statement during prime minister  narendra  modi's visit to china\n",
      "               priority ; prime minister  narendra  modi raised the matter\n",
      "           macron dialled prime minister  narendra  modi on monday evening\n",
      "             hours before prime minister  narendra  modi addresses the nation\n",
      "                spoken to prime minister  narendra  modi over the distressing\n",
      "              december 17 prime minister  narendra  modi and his bangladesh\n",
      "            confidence in prime minister  narendra  modi's leadership in tackling\n",
      "            revive growth prime minister  narendra  modi who joined an\n",
      "            lockdown ends prime minister  narendra  modi told chief ministers\n",
      "        covid-19 pandemic prime minister  narendra  modi told his sri\n",
      "                  16 when prime minister  narendra  modi inaugurating the world's\n",
      "                            a dig at the  narendra  modi-led national democratic alliance\n",
      "               us besides prime minister  narendra  modi trump had also\n",
      "                spoken to prime minister  narendra  modi over the distressing\n",
      "               rose after prime minister  narendra  modi in a meeting\n",
      "               rose after prime minister  narendra  modi reviewed on thursday\n",
      "              convened by prime minister  narendra  modi on march 15\n",
      "        several countries prime minister  narendra  modi has directed the\n",
      "          help to maldivesprime minister  narendra  modi has been in\n",
      "          help to maldivesprime minister  narendra  modi has been in\n",
      "                    by prime minister pm  narendra  modi to continue paying\n",
      "           summit between prime minister  narendra  modi and his italian\n",
      "                    by prime minister pm  narendra  modi to continue paying\n",
      "             hours before prime minister  narendra  modi addresses the nation\n",
      "                    18 -- prime minister  narendra  modi and us president-elect\n",
      "         friday requested prime minister  narendra  modi to run special\n",
      "               more tests prime minister  narendra  modi recommended that ncr\n",
      "              italy backs prime minister  narendra  modi's call made during\n",
      "            revive growth prime minister  narendra  modi who joined an\n",
      "             into account prime minister  narendra  modi who on tuesday\n",
      "         director general prime minister  narendra  modi was first to\n",
      "                    to prime minister pm  narendra  modi at kevadia gujarat\n",
      "                    by prime minister pm  narendra  modi to continue paying\n",
      "        pradesh's rohtang prime minister  narendra  modi addressed a public\n",
      "              of covid-19 prime minister  narendra  modi said that no\n",
      "           macron dialled prime minister  narendra  modi on monday evening\n",
      "      multiple challenges prime minister  narendra  modi said on thursday\n",
      "                         a day after the  narendra  modi govenment announced ban\n",
      "                to follow prime minister  narendra  modi's call to observe\n",
      "                    17 -- prime minister  narendra  modi on late tuesday\n"
     ]
    }
   ],
   "source": [
    "print_kwic(make_kwic('narendra',ht_comp_toks))"
   ]
  },
  {
   "cell_type": "markdown",
   "metadata": {},
   "source": [
    "Remembering the high frequency mentions of the prime minister, we see that they do not strictly reference the conspiracies and rather are mentioned in a broader context of the state of the pandemic."
   ]
  },
  {
   "cell_type": "code",
   "execution_count": 50,
   "metadata": {},
   "outputs": [],
   "source": [
    "# select texts with origin terms\n",
    "origin_txt_ht=[]\n",
    "orig_terms = ['laboratory','lab','bioweapon','market','military','cold-chain','conspiracy','army','detrick', 'transparency','origins','wuhan','theory']\n",
    "\n",
    "for word in orig_terms:\n",
    "    for article in ht_corp:\n",
    "        if article in origin_txt_ht:\n",
    "            continue\n",
    "        elif article['tokens'].count(word)>0:\n",
    "            origin_txt_ht.append(article)"
   ]
  },
  {
   "cell_type": "code",
   "execution_count": 51,
   "metadata": {},
   "outputs": [
    {
     "data": {
      "text/plain": [
       "305"
      ]
     },
     "execution_count": 51,
     "metadata": {},
     "output_type": "execute_result"
    }
   ],
   "source": [
    "# number narrowed down\n",
    "len(origin_txt_ht)"
   ]
  },
  {
   "cell_type": "code",
   "execution_count": 53,
   "metadata": {},
   "outputs": [
    {
     "data": {
      "text/plain": [
       "46.56"
      ]
     },
     "execution_count": 53,
     "metadata": {},
     "output_type": "execute_result"
    }
   ],
   "source": [
    "# percentage of all ht texts\n",
    "round(len(origin_txt_ht)/len(ht_corp)*100,2)"
   ]
  },
  {
   "cell_type": "code",
   "execution_count": 54,
   "metadata": {},
   "outputs": [],
   "source": [
    "# write out as doc\n",
    "terms_only_txt=[]\n",
    "for article in origin_txt_ht:\n",
    "    terms_only_txt.append(article['text'])\n",
    "    \n",
    "terms_only_doc = '\\n---\\n'.join(terms_only_txt)\n",
    "with open('../data/text/hindustan_times/ht_terms_only_texts.txt','w') as out:\n",
    "    out.write(terms_only_doc)"
   ]
  }
 ],
 "metadata": {
  "kernelspec": {
   "display_name": "Python 3",
   "language": "python",
   "name": "python3"
  },
  "language_info": {
   "codemirror_mode": {
    "name": "ipython",
    "version": 3
   },
   "file_extension": ".py",
   "mimetype": "text/x-python",
   "name": "python",
   "nbconvert_exporter": "python",
   "pygments_lexer": "ipython3",
   "version": "3.7.3"
  }
 },
 "nbformat": 4,
 "nbformat_minor": 2
}
