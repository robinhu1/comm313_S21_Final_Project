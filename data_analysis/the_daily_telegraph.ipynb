{
 "cells": [
  {
   "cell_type": "markdown",
   "metadata": {},
   "source": [
    "# Data Analysis - The Daily Telegraph"
   ]
  },
  {
   "cell_type": "markdown",
   "metadata": {},
   "source": [
    "In this data analysis notebook, I will first conduct a general analysis and further clean if necessary of all publications collected for the Daily Telegraph. Specifically, I will generate a frequency list of commonly used words and phrases, followed by a KWIC analysis to investigate the contexts surrounding a select fraction of words of interest. \n",
    "\n",
    "- general analysis\n",
    "- frequency lists\n",
    "- KWIC analysis"
   ]
  },
  {
   "cell_type": "code",
   "execution_count": 1,
   "metadata": {},
   "outputs": [],
   "source": [
    "import os\n",
    "import json\n",
    "import random\n",
    "import shutil\n",
    "\n",
    "import datetime as dt\n",
    "import calendar\n",
    "\n",
    "from collections import Counter"
   ]
  },
  {
   "cell_type": "code",
   "execution_count": 2,
   "metadata": {},
   "outputs": [],
   "source": [
    "## run the functions notebook here\n",
    "%run functions.ipynb"
   ]
  },
  {
   "cell_type": "code",
   "execution_count": 3,
   "metadata": {},
   "outputs": [],
   "source": [
    "## open the corpus_index file that only contains publications from the Daily Telegraph\n",
    "dt_corp = json.load(open('../data/text/daily_telegraph/dt_corpus_index.json'))"
   ]
  },
  {
   "cell_type": "code",
   "execution_count": 4,
   "metadata": {},
   "outputs": [],
   "source": [
    "for article in dt_corp:\n",
    "    if article['Filename'].startswith('wish-magazine'):\n",
    "        dt_corp.remove(article)"
   ]
  },
  {
   "cell_type": "code",
   "execution_count": 5,
   "metadata": {
    "scrolled": true
   },
   "outputs": [
    {
     "data": {
      "text/plain": [
       "415"
      ]
     },
     "execution_count": 5,
     "metadata": {},
     "output_type": "execute_result"
    }
   ],
   "source": [
    "len(dt_corp)"
   ]
  },
  {
   "cell_type": "markdown",
   "metadata": {},
   "source": [
    "Total of 415 publications from the Daily Telegraph of Australia. The bulk download oddly included 7 entries from Wish Magazine which is entirely unrelated here, so I have filtered that out and removed it from the corpus. The first general analysis I will conduct is on the date of publication to see if there are any trends in terms of when output of publications may have been greater."
   ]
  },
  {
   "cell_type": "code",
   "execution_count": 6,
   "metadata": {},
   "outputs": [],
   "source": [
    "## extract year-month and append to list dates\n",
    "dates=[]\n",
    "\n",
    "for article in dt_corp:\n",
    "    date=article['Date'][:7]\n",
    "    dates.append(date)"
   ]
  },
  {
   "cell_type": "code",
   "execution_count": 7,
   "metadata": {
    "scrolled": true
   },
   "outputs": [
    {
     "data": {
      "text/plain": [
       "[('2020-05', 96),\n",
       " ('2020-04', 54),\n",
       " ('2020-08', 46),\n",
       " ('2020-12', 38),\n",
       " ('2020-06', 31)]"
      ]
     },
     "execution_count": 7,
     "metadata": {},
     "output_type": "execute_result"
    }
   ],
   "source": [
    "## counter and 5 most common times of publication\n",
    "dates_dist= Counter(dates)\n",
    "dates_dist.most_common(5)"
   ]
  },
  {
   "cell_type": "markdown",
   "metadata": {},
   "source": [
    "Similar to what was observed with the China Daily and the NY Times, the most publications were released in May of 2020. Unlike with the China Daily, but similar to NY Times, the next most common was not November but April instead. To visualize the data, I will plot the distribution as a bar graph."
   ]
  },
  {
   "cell_type": "code",
   "execution_count": 8,
   "metadata": {
    "scrolled": true
   },
   "outputs": [
    {
     "data": {
      "text/plain": [
       "<AxesSubplot:title={'center':'The Daily Telegraph'}, xlabel='date', ylabel='# Articles'>"
      ]
     },
     "execution_count": 8,
     "metadata": {},
     "output_type": "execute_result"
    }
   ],
   "source": [
    "date_df = pd.DataFrame.from_records(list(dates_dist.items()), columns=['date','article'])\n",
    "date_df.sort_values('date').plot.bar(x='date',y='article', figsize=(12,6), color='salmon',title='The Daily Telegraph',ylabel='# Articles')"
   ]
  },
  {
   "cell_type": "code",
   "execution_count": 9,
   "metadata": {},
   "outputs": [],
   "source": [
    "characters_to_remove = '!,.()[]\"'"
   ]
  },
  {
   "cell_type": "code",
   "execution_count": 10,
   "metadata": {
    "scrolled": true
   },
   "outputs": [],
   "source": [
    "## extract text from each publication corresponding to the Daily Telegraph and add to dictionary\n",
    "for article in dt_corp:\n",
    "    filename = article['Filename']\n",
    "    text = open('../data/text/daily_telegraph/{}'.format(filename)).read()\n",
    "    article['text'] = text"
   ]
  },
  {
   "cell_type": "code",
   "execution_count": 11,
   "metadata": {},
   "outputs": [],
   "source": [
    "## tokenize the text and add 'tokens', 'token_cnt', and 'type_cnt' to dictionary \n",
    "for article in dt_corp:\n",
    "    if article.get('text'):\n",
    "        dt_tokens = tokenize(article['text'], lowercase=True, strip_chars=characters_to_remove)\n",
    "        article['tokens'] = dt_tokens \n",
    "        article['token_cnt'] = len(dt_tokens)\n",
    "        article['type_cnt'] = len(set(dt_tokens))"
   ]
  },
  {
   "cell_type": "code",
   "execution_count": 12,
   "metadata": {},
   "outputs": [],
   "source": [
    "## counters for tokens of individual words, bigrams, and trigrams\n",
    "dt_token_dist=Counter()\n",
    "dt_text_dist= Counter()\n",
    "dt_bigram_dist=Counter()\n",
    "dt_trigram_dist=Counter()\n",
    "\n",
    "for article in dt_corp:\n",
    "    if article.get('tokens'):\n",
    "        dt_tokens = article['tokens']\n",
    "        dt_token_dist.update(dt_tokens)\n",
    "        dt_text_dist.update(set(dt_tokens))\n",
    "        \n",
    "        dt_bigrams=get_ngram_tokens(dt_tokens,2)\n",
    "        dt_trigrams=get_ngram_tokens(dt_tokens,3)\n",
    "        \n",
    "        dt_bigram_dist.update(dt_bigrams)\n",
    "        dt_trigram_dist.update(dt_trigrams) "
   ]
  },
  {
   "cell_type": "code",
   "execution_count": 13,
   "metadata": {},
   "outputs": [
    {
     "data": {
      "text/plain": [
       "[('the', 18811),\n",
       " ('to', 8707),\n",
       " ('of', 7400),\n",
       " ('and', 7133),\n",
       " ('a', 6310),\n",
       " ('in', 5696),\n",
       " ('is', 3174),\n",
       " ('for', 3054),\n",
       " ('that', 2516),\n",
       " ('on', 2426),\n",
       " ('with', 2241),\n",
       " ('it', 2237),\n",
       " ('was', 2016),\n",
       " ('be', 1957),\n",
       " ('have', 1762),\n",
       " ('as', 1756),\n",
       " ('has', 1705),\n",
       " ('he', 1600),\n",
       " ('at', 1568),\n",
       " ('from', 1453),\n",
       " ('this', 1440),\n",
       " ('his', 1375),\n",
       " ('are', 1338),\n",
       " ('but', 1320),\n",
       " ('by', 1206),\n",
       " ('will', 1169),\n",
       " ('an', 1156),\n",
       " ('not', 1145),\n",
       " ('we', 1120),\n",
       " ('-', 1119),\n",
       " ('said', 1096),\n",
       " ('they', 1045),\n",
       " ('who', 1001),\n",
       " ('been', 967),\n",
       " ('i', 950),\n",
       " ('their', 942),\n",
       " ('all', 779),\n",
       " ('china', 775),\n",
       " ('covid-19', 697),\n",
       " ('there', 697),\n",
       " ('nrl', 694),\n",
       " ('one', 691),\n",
       " ('when', 682),\n",
       " ('or', 676),\n",
       " ('had', 672),\n",
       " ('up', 672),\n",
       " ('our', 670),\n",
       " ('australia', 662),\n",
       " ('if', 656),\n",
       " ('about', 655)]"
      ]
     },
     "execution_count": 13,
     "metadata": {},
     "output_type": "execute_result"
    }
   ],
   "source": [
    "## top 50 most common words and frequencies\n",
    "dt_token_dist.most_common(50)"
   ]
  },
  {
   "cell_type": "code",
   "execution_count": 14,
   "metadata": {
    "scrolled": false
   },
   "outputs": [
    {
     "data": {
      "text/plain": [
       "[('of the', 1828),\n",
       " ('in the', 1339),\n",
       " ('to the', 813),\n",
       " ('for the', 673),\n",
       " ('on the', 625),\n",
       " ('to be', 604),\n",
       " ('at the', 571),\n",
       " ('and the', 525),\n",
       " ('with the', 497),\n",
       " ('the nrl', 406),\n",
       " ('will be', 374),\n",
       " ('has been', 360),\n",
       " ('in a', 351),\n",
       " ('the world', 348),\n",
       " ('it was', 343),\n",
       " ('from the', 326),\n",
       " ('it is', 314),\n",
       " ('have been', 308),\n",
       " ('by the', 304),\n",
       " ('the virus', 301),\n",
       " ('per cent', 288),\n",
       " ('of a', 281),\n",
       " ('is a', 270),\n",
       " ('into the', 269),\n",
       " ('that the', 265),\n",
       " ('is the', 261),\n",
       " ('as a', 255),\n",
       " ('one of', 251),\n",
       " ('he said', 244),\n",
       " ('the chinese', 235),\n",
       " ('the game', 233),\n",
       " ('the first', 229),\n",
       " ('as the', 220),\n",
       " ('for a', 210),\n",
       " ('of origin', 208),\n",
       " ('with a', 204),\n",
       " ('rugby league', 202),\n",
       " ('state of', 200),\n",
       " ('would be', 193),\n",
       " ('the coronavirus', 189),\n",
       " ('to get', 177),\n",
       " ('the australian', 175),\n",
       " ('about the', 174),\n",
       " ('there is', 173),\n",
       " ('the covid-19', 173),\n",
       " ('more than', 172),\n",
       " ('this year', 165),\n",
       " ('said the', 163),\n",
       " ('to a', 163),\n",
       " ('he was', 161)]"
      ]
     },
     "execution_count": 14,
     "metadata": {},
     "output_type": "execute_result"
    }
   ],
   "source": [
    "## top 50 most common bigrams\n",
    "dt_bigram_dist.most_common(50)"
   ]
  },
  {
   "cell_type": "code",
   "execution_count": 15,
   "metadata": {
    "scrolled": false
   },
   "outputs": [
    {
     "data": {
      "text/plain": [
       "[('state of origin', 182),\n",
       " ('one of the', 148),\n",
       " ('the daily telegraph', 132),\n",
       " ('the origins of', 125),\n",
       " ('wuhan institute of', 89),\n",
       " ('the end of', 86),\n",
       " ('institute of virology', 81),\n",
       " ('into the origins', 80),\n",
       " ('origins of the', 79),\n",
       " ('around the world', 74),\n",
       " ('of the virus', 71),\n",
       " ('the world health', 66),\n",
       " ('of the coronavirus', 66),\n",
       " ('the chinese government', 66),\n",
       " ('the rest of', 64),\n",
       " ('the wuhan institute', 64),\n",
       " ('of the year', 64),\n",
       " ('the covid-19 pandemic', 60),\n",
       " ('a lot of', 59),\n",
       " ('world health organisation', 57),\n",
       " ('there is no', 57),\n",
       " ('source of power:', 57),\n",
       " ('the first time', 56),\n",
       " ('inquiry into the', 55),\n",
       " ('the chinese communist', 52),\n",
       " ('rest of the', 51),\n",
       " ('chinese communist party', 50),\n",
       " ('some of the', 48),\n",
       " ('of the world', 48),\n",
       " ('to be a', 48),\n",
       " ('out of the', 48),\n",
       " ('we need to', 47),\n",
       " ('per cent of', 47),\n",
       " ('at the end', 46),\n",
       " ('need to be', 45),\n",
       " ('for the first', 45),\n",
       " ('as well as', 44),\n",
       " ('in the world', 43),\n",
       " ('end of the', 42),\n",
       " ('part of the', 42),\n",
       " ('of the covid-19', 42),\n",
       " ('of the season', 41),\n",
       " ('has been a', 41),\n",
       " ('it was a', 41),\n",
       " ('it would be', 41),\n",
       " ('for an independent', 41),\n",
       " ('there is a', 39),\n",
       " ('origins of covid-19', 38),\n",
       " ('in the nrl', 37),\n",
       " ('going to be', 37)]"
      ]
     },
     "execution_count": 15,
     "metadata": {},
     "output_type": "execute_result"
    }
   ],
   "source": [
    "## top 50 most common trigrams\n",
    "dt_trigram_dist.most_common(50)"
   ]
  },
  {
   "cell_type": "markdown",
   "metadata": {},
   "source": [
    "It's interesting to see the explicit mention of the Chinese government and the Chinese communist party. Additionally, origins of COVID-19 and state of origin directly reference the origins examined in this project. Finally, it mentions the Wuhan Institute of Virology which indicates to me the possibility that they will also highlight the lab-leak theory."
   ]
  },
  {
   "cell_type": "markdown",
   "metadata": {},
   "source": [
    "It is useful to be able to refer to one document that contains all the text, so I will quickly write out a file that consists of only the text portion of each publication."
   ]
  },
  {
   "cell_type": "code",
   "execution_count": 16,
   "metadata": {},
   "outputs": [],
   "source": [
    "## write out one doc titled dt_doc that consists of solely the texts from each publication\n",
    "dt_single_text_list=[]\n",
    "\n",
    "for article in dt_corp:\n",
    "    if article.get('tokens'):\n",
    "        dt_single_text_list.append(article['text'])\n",
    "\n",
    "dt_doc = '\\n---\\n'.join(dt_single_text_list)\n",
    "with open('../data/text/daily_telegraph/dt_composite_text.txt','w') as out:\n",
    "    out.write(dt_doc)"
   ]
  },
  {
   "cell_type": "code",
   "execution_count": 17,
   "metadata": {},
   "outputs": [],
   "source": [
    "dt_comp_toks = tokenize(dt_doc, lowercase=True, strip_chars=characters_to_remove)\n",
    "dt_comp_toks_dist = Counter(dt_comp_toks)"
   ]
  },
  {
   "cell_type": "code",
   "execution_count": 18,
   "metadata": {
    "scrolled": false
   },
   "outputs": [
    {
     "name": "stdout",
     "output_type": "stream",
     "text": [
      "term                The Daily Telegraph\tNorm Freq\n",
      "==========================================\n",
      "laboratory          173   \t5.67\n",
      "lab                 90    \t2.95\n",
      "bioweapon           0     \t0.0\n",
      "market              156   \t5.11\n",
      "military            85    \t2.78\n",
      "cold-chain          0     \t0.0\n",
      "conspiracy          23    \t0.75\n",
      "army                34    \t1.11\n",
      "detrick             0     \t0.0\n",
      "transparency        30    \t0.98\n",
      "origins             176   \t5.77\n",
      "wuhan               357   \t11.69\n",
      "theory              29    \t0.95\n"
     ]
    }
   ],
   "source": [
    "print(\"{: <20}{: <6}\\t{}\".format('term','The Daily Telegraph', 'Norm Freq'))\n",
    "print(\"=\"*42)\n",
    "origin_terms = ['laboratory','lab','bioweapon','market','military','cold-chain','conspiracy','army','detrick', 'transparency','origins','wuhan','theory','imported']\n",
    "for term in origin_terms:\n",
    "    print(\"{: <20}{: <6}\\t{}\".format(term, dt_comp_toks_dist[term], round((dt_comp_toks_dist[term]/len(dt_comp_toks)*10000), 2)))"
   ]
  },
  {
   "cell_type": "markdown",
   "metadata": {},
   "source": [
    "As we saw with the China Daily and the NY Times, the frequency of Wuhan was the highest among all the origin terms selected. Following behind are origins, laboratory, and market, all common general words. While the lab is mentioned, there is no indication of the other theories like bioweapon, cold-chain, or Fort Detrick."
   ]
  },
  {
   "cell_type": "code",
   "execution_count": 19,
   "metadata": {},
   "outputs": [
    {
     "name": "stdout",
     "output_type": "stream",
     "text": [
      "                    have originated in a  laboratory  the former boss of\n",
      "                   was manufactured in a  laboratory  and he believes the\n",
      "                       been created in a  laboratory  a number of european\n",
      "                        was created in a  laboratory  the official government language\n",
      "                      have leaked from a  laboratory  he said: politics it\n",
      "                     leaked from a wuhan  laboratory  is akin to their\n",
      "                   originated in a wuhan  laboratory  and could be making\n",
      "                         came out of the  laboratory  rather than the wet\n",
      "                 virus originated from a  laboratory  instead it centres on\n",
      "                      of the virus wuhan  laboratory  has nothing to do\n",
      "                  escaped from a chinese  laboratory  the research facility is\n",
      "                     a biosafety level 4  laboratory  that is able to\n",
      "                     leaked from a wuhan  laboratory  the origins of coronavirus\n",
      "                   originated in a wuhan  laboratory  in an extraordinary comparison\n",
      "                         came out of the  laboratory  rather than the wet\n",
      "                     leaked from a wuhan  laboratory  and says a security\n",
      "                      virus from a wuhan  laboratory  mr richardson said: put\n",
      "                 and lower profile wuhan  laboratory  near the now infamous\n",
      "                       this sound like a  laboratory  you would entrust with\n",
      "                  a top beijing virology  laboratory  where two young scientists\n",
      "            of australia's animal health  laboratory  dr trevor drew had\n",
      "                    of chemistry its key  laboratory  of attack and defence\n",
      "        csiro's australian animal health  laboratory  - now known as\n",
      "                           - relied on a  laboratory  in the people's liberation\n",
      "          accidentally released from its  laboratory  or came from a\n",
      "                  emerged from a chinese  laboratory  mr morrison said he\n",
      "                   accident at a chinese  laboratory  the office of the\n",
      "                       an accident at -a  laboratory  in wuhan the statement\n",
      "        csiro's australian animal health  laboratory  - now known as\n",
      "                incident occurred at the  laboratory  in geelong this type\n",
      "                    the possibility of a  laboratory  -accident or leak â€¦\n",
      "                  culture at a reference  laboratory  the details on source\n",
      "                          or leaked in a  laboratory  is a legitimate line\n",
      "              accidentally leaked from a  laboratory  but that it may\n",
      "                      have leaked from a  laboratory  and it needs to\n",
      "                         relied on a key  laboratory  in an institute in\n",
      "          accidentally released from its  laboratory  or came from a\n",
      "                       team in state key  laboratory  of pathogen and biosecurity\n",
      "                sequencing the state key  laboratory  of pathogen and biosecurity\n",
      "                        of the state key  laboratory  of pathogen and biosecurity\n",
      "                 dr cao co-ordinated the  laboratory  work before prof holmes'\n",
      "                     from the level four  laboratory  in wuhan that was\n",
      "            accidentally released from a  laboratory  it can be revealed\n",
      "       facility australian animal health  laboratory  between 2011 and 2014\n",
      "            the australian animal health  laboratory  in victoria where they\n",
      "      top-level australian animal health  laboratory  she used faecal samples\n",
      "                   was released from her  laboratory  - but has since\n",
      "            the australian animal health  laboratory  have collaborated with china\n",
      "                    the practices at the  laboratory  a sensitive but unclassified\n",
      "                  in beijing visited the  laboratory  and met with zhengli\n",
      "                   scientists at the wiv  laboratory  they noted the new\n",
      "    safely operate this high-containment  laboratory  the cable stated a\n",
      "            the australian animal health  laboratory  and biosecurity business unit\n",
      "            the australian animal health  laboratory  and biosecurity business unit\n",
      "      top-level australian animal health  laboratory  * at the csiro\n",
      "                   was released from her  laboratory  but has since strongly\n",
      "                      met zhengli at the  laboratory  and sent warnings back\n",
      "                new evidence linking the  laboratory  to the outbreak and\n",
      "                     leaked from a wuhan  laboratory  the team and its\n",
      "        csiro's australian animal health  laboratory  where they conducted foundational\n",
      "                          shi has in her  laboratory  is a 96 per\n",
      "                     of the outbreak her  laboratory  is now being closely\n",
      "              accidentally leaked from a  laboratory  the us's position according\n",
      "                     virus leaked from a  laboratory  but it could also\n",
      "                 probes into whether her  laboratory  may have been responsible\n",
      "      top-level australian animal health  laboratory  which has recently been\n",
      "                        in the state key  laboratory  of virology in wuhan\n",
      "              the animal health research  laboratory  in geelong australia it\n",
      "       facility australian animal health  laboratory  between 2011 and 2014\n",
      "                  in beijing visited the  laboratory  and sent warnings back\n",
      "                   scientists at the wiv  laboratory  they noted the new\n",
      "    safely operate this high-containment  laboratory  the cable stated unlikely\n",
      "                     accident at a wuhan  laboratory  the office of the\n",
      "                        not created in a  laboratory  the entire intelligence community\n",
      "                        an accident at a  laboratory  in wuhan despite mr\n",
      "                        not created in a  laboratory  based on its genome\n",
      "              probably originated from a  laboratory  in wuhan safety level\n",
      "                 evidence from the wuhan  laboratory  and refusing to provide\n",
      "                  concern is political a  laboratory  may be perfectly sealed\n",
      "            of australia's animal health  laboratory  - -recently renamed the\n",
      "                   who mission said: the  laboratory  incident hypothesis is extremely\n",
      "            also been several accidental  laboratory  leaks - even of\n",
      "              accidentally leaked from a  laboratory  the us's top spy\n",
      "                       leak from a wuhan  laboratory  three senior federal sources\n",
      "                 coronavirus came from a  laboratory  but that further investigations\n",
      "        csiro's australian animal health  laboratory  he said: obviously asio\n",
      "       facility australian animal health  laboratory  between 2011 and 2014\n",
      "                   was released from her  laboratory  but has since strongly\n",
      "             of chinese scientists whose  laboratory  is now the subject\n",
      "                 origins of covid-19 the  laboratory  genetically modified deadly coronaviruses\n",
      "            the coronavirus pandemic the  laboratory  led by scientist shi\n",
      "                     leaked from a wuhan  laboratory  the origins of coronavirus\n",
      "                   originated in a wuhan  laboratory  in an extraordinary comparison\n",
      "                         came out of the  laboratory  rather than the wet\n",
      "            cell-culture experiment in a  laboratory  according to prominent scientists\n",
      "                     virus leaked from a  laboratory  continues p8 continued from\n",
      "                        the virus from a  laboratory  he said certainly we\n",
      "                        this came from a  laboratory  experiment rather than from\n",
      "                        not created in a  laboratory  asked why scientists have\n",
      "           impacted adversely by tighter  laboratory  controls prof petrovsky was\n",
      "                     from the level four  laboratory  in wuhan that was\n",
      "            accidentally released from a  laboratory  it can be revealed\n",
      "       facility australian animal health  laboratory  between 2011 and 2014\n",
      "            the australian animal health  laboratory  in victoria where they\n",
      "      top-level australian animal health  laboratory  she used faecal samples\n",
      "                   was released from her  laboratory  - but has since\n",
      "            the australian animal health  laboratory  have collaborated with china\n",
      "                    the practices at the  laboratory  a sensitive but unclassified\n",
      "                  in beijing visited the  laboratory  and met with zhengli\n",
      "                   scientists at the wiv  laboratory  they noted the new\n",
      "    safely operate this high-containment  laboratory  the cable stated a\n",
      "            the australian animal health  laboratory  and biosecurity business unit\n",
      "            the australian animal health  laboratory  and biosecurity business unit\n",
      "      top-level australian animal health  laboratory  at the csiro she\n",
      "                   was released from her  laboratory  but has since strongly\n",
      "                      met zhengli at the  laboratory  and sent warnings back\n",
      "                         who belong to a  laboratory  which went on to\n",
      "                     leaked from a wuhan  laboratory  the team and its\n",
      "        csiro's australian animal health  laboratory  where they conducted foundational\n",
      "                          shi has in her  laboratory  is a 96 per\n",
      "                     of the outbreak her  laboratory  is now being closely\n",
      "              accidentally leaked from a  laboratory  the us's position according\n",
      "                     virus leaked from a  laboratory  but it could also\n",
      "                 probes into whether her  laboratory  may have been responsible\n",
      "      top-level australian animal health  laboratory  which has recently been\n",
      "                        in the state key  laboratory  of virology in wuhan\n",
      "              the animal health research  laboratory  in geelong australia it\n",
      "       facility australian animal health  laboratory  between 2011 and 2014\n",
      "                  in beijing visited the  laboratory  and sent warnings back\n",
      "                   scientists at the wiv  laboratory  they noted the new\n",
      "    safely operate this high-containment  laboratory  the cable stated unlikely\n",
      "                     accident at a wuhan  laboratory  the office of the\n",
      "                        not created in a  laboratory  the entire intelligence community\n",
      "                        an accident at a  laboratory  in wuhan despite mr\n",
      "                        not created in a  laboratory  based on its genome\n",
      "              probably originated from a  laboratory  in wuhan safety level\n",
      "                 evidence from the wuhan  laboratory  and refusing to provide\n",
      "                       from a level four  laboratory  in wuhanfull report pages\n",
      "            of australia's animal health  laboratory  dr trevor drew had\n",
      "                    of chemistry its key  laboratory  of attack and defence\n",
      "                      humans relied on a  laboratory  in the people's liberation\n",
      "          accidentally released from its  laboratory  or came from a\n",
      "                       team in state key  laboratory  of pathogen and biosecurity\n",
      "                sequencing the state key  laboratory  of pathogen and biosecurity\n",
      "                        of the state key  laboratory  of pathogen and biosecurity\n",
      "                 dr cao co-ordinated the  laboratory  work before prof holmes'\n",
      "                        was working in a  laboratory  when the race began\n",
      "                       from a level four  laboratory  in wuhanfull report pages\n",
      "         from china's national biosafety  laboratory  in wuhan the country's\n",
      "                         relied on a key  laboratory  in an institute in\n",
      "                  culture at a reference  laboratory  the details on source\n",
      "                    the possibility of a  laboratory  -accident or leak â€¦\n",
      "               attempt to dissociate the  laboratory  from a novel coronavirus\n",
      "                     from the nearby wiv  laboratory  where high-risk research into\n",
      "                    virus escaped from a  laboratory  in wuhanchina has been\n",
      "                           - relied on a  laboratory  in one of the\n",
      "          accidentally released from its  laboratory  or came from a\n",
      "        csiro's australian animal health  laboratory  - now known as\n",
      "                incident occurred at the  laboratory  in geelong this type\n",
      "                         relied on a key  laboratory  in an institute in\n",
      "             from the national biosafety  laboratory  which is part of\n",
      "                           came out of a  laboratory  rather than a wet\n",
      "                   who mission said: the  laboratory  incident hypothesis is extremely\n",
      "            cell-culture experiment in a  laboratory  according to prominent scientists\n",
      "                     virus leaked from a  laboratory  the two possibilities which\n",
      "                        the virus from a  laboratory  he said certainly we\n",
      "                        this came from a  laboratory  experiment rather than from\n",
      "                        not created in a  laboratory  asked why scientists have\n",
      "           impacted adversely by tighter  laboratory  controls prof petrovsky was\n",
      "                     wet markets or from  laboratory  leaks but the scientific\n",
      "                      of the virus wuhan  laboratory  has nothing to do\n",
      "                  escaped from a chinese  laboratory  the research facility is\n",
      "                     a biosafety level 4  laboratory  that is able to\n"
     ]
    }
   ],
   "source": [
    "print_kwic(make_kwic('laboratory',dt_comp_toks))"
   ]
  },
  {
   "cell_type": "code",
   "execution_count": 20,
   "metadata": {
    "scrolled": false
   },
   "outputs": [
    {
     "name": "stdout",
     "output_type": "stream",
     "text": [
      "               in an american biowarfare  lab  some 110 of them\n",
      "                   more evidence for the  lab  theory by the day\n",
      "             competition --- fears china  lab  virus origin theory could\n",
      "                      created in a wuhan  lab  is precisely why an\n",
      "                 racism k baker engadine  lab  security is an issue\n",
      "          of sensitive biological agents  lab  leaks happen: former spy\n",
      "                     was also working on  lab  ventures he and his\n",
      "                  link to china military  lab  china's people's liberation army\n",
      "   coronavirus american official revives  lab  theory; 4/1 i was\n",
      "                 reports about the wuhan  lab  â€¦ they were public\n",
      "               was an infectious disease  lab  in wuhan the epicentre\n",
      "                    pandemic to a secret  lab  in wuhan in his\n",
      "             us operatives revealing the  lab  as the pandemic's origin\n",
      "                      be done of csiro's  lab  the cyber security of\n",
      "                    escaped from a local  lab  where scientists were known\n",
      "                      would rule out the  lab  as where covid-19 started\n",
      "               evidence for dismissing a  lab  leak she said since\n",
      "                         to rule out the  lab  hypothesis before they have\n",
      "           from a chinese government-run  lab  in wuhan pottinger a\n",
      "                    of evidence that the  lab  is likely the most\n",
      "                   leaked from a chinese  lab  a chinese virologist who\n",
      "            two laboratories warnings on  lab  the research into bats\n",
      "                      they noted the new  lab  has a serious shortage\n",
      "                       virus came from a  lab  than to actually investigate\n",
      "                          cooked up in a  lab  even for legitimate purposes?\n",
      "                    of evidence that the  lab  is likely the most\n",
      "                     been created at the  lab  as part of legitimate\n",
      "                 the virus -escaped some  lab  where these things were\n",
      "                     come from a chinese  lab  if you believe -donald\n",
      "                         up in a chinese  lab  a washington post fact\n",
      "               nothing political about a  lab  accident; they might happen\n",
      "                   evidence at the wuhan  lab  and on january 14\n",
      "             incurable virus invented at  lab  with links to australia\n",
      "                      whether it was her  lab  that was responsible for\n",
      "                       not match any her  lab  was studying yet given\n",
      "             including in the level-four  lab  in 2006 ms shi's\n",
      "                  from queensland to the  lab  in victoria where they\n",
      "                      they noted the new  lab  has a serious shortage\n",
      "                 claims virus created in  lab  scientific consensus is that\n",
      "            shared publicly the shanghai  lab  closure for 'rectification' academic\n",
      "                the virus originated the  lab  worker who disappeared out\n",
      "                        new virus in the  lab  from sars-cov december 6\n",
      "           12 professor zhang yongzhen's  lab  in shanghai is closed\n",
      "                         a wet market or  lab  accident the virus may\n",
      "                       was leaked from a  lab  or crossed to humans\n",
      "                  market key findings â–  lab  theory 'extremely unlikely' â–\n",
      "                    created in a chinese  lab  and is a form\n",
      "              from a high-security wuhan  lab  or was naturally transmitted\n",
      "                     being tested at the  lab  and -accidentally escaped china\n",
      "       12:shanghai authorities close the  lab  for official rectification jan\n",
      "                    the viruses from her  lab  when she learnt of\n",
      "                   virus originated in a  lab  in every single story\n",
      "            telegraph features the wuhan  lab  now at the centre\n",
      "                   wallace of fox sports  lab  1 who scored the\n",
      "            two laboratories warnings on  lab  the research into bats\n",
      "                      they noted the new  lab  has a serious shortage\n",
      "             incurable virus invented at  lab  with links to australia\n",
      "                      whether it was her  lab  that was responsible for\n",
      "                       not match any her  lab  was studying yet given\n",
      "             including in the level-four  lab  in 2006 dr shi's\n",
      "                  from queensland to the  lab  in victoria where they\n",
      "                      they noted the new  lab  has a serious shortage\n",
      "                 claims virus created in  lab  scientific consensus is that\n",
      "            shared publicly the shanghai  lab  closure for 'rectification' academic\n",
      "                the virus originated the  lab  worker who disappeared out\n",
      "                        new virus in the  lab  from sars-cov december 6\n",
      "           12 professor zhang yongzhen's  lab  in shanghai is closed\n",
      "             ordering the destruction of  lab  samples that established back\n",
      "               in an american biowarfare  lab  some 110 of them\n",
      "                  only biosafety level 4  lab  - so certified because\n",
      "          censored reports and destroyed  lab  samples in an effort\n",
      "              from a high-security wuhan  lab  or was naturally transmitted\n",
      "                     being tested at the  lab  and -accidentally escaped china\n",
      "       12:shanghai authorities close the  lab  for official rectification jan\n",
      "                    escaped from a local  lab  where scientists were known\n",
      "                      would rule out the  lab  as where covid-19 started\n",
      "               evidence for dismissing a  lab  leak she said since\n",
      "                         to rule out the  lab  hypothesis before they have\n",
      "                       ratg13 was in her  lab  weeks later she would\n",
      "                          to do with the  lab  but at some point\n",
      "                 evidence that the wuhan  lab  is where this began\n",
      "                   failures in a chinese  lab  yesterday pompeo walked back\n",
      "                  link to china military  lab  china's people's liberation army\n",
      "                      be done of csiro's  lab  adding: the cyber security\n",
      "                 among other things that  lab  safety is a national\n",
      "                is only one microbiology  lab  in china that handles\n",
      "                      carried out of the  lab  by an infected worker\n",
      "                  unknowingly dined on a  lab  animal the point is\n",
      "                   leaked from a chinese  lab  or came from a\n",
      "                  market key findings â–  lab  theory 'extremely unlikely' â–\n"
     ]
    }
   ],
   "source": [
    "print_kwic(make_kwic('lab',dt_comp_toks))"
   ]
  },
  {
   "cell_type": "markdown",
   "metadata": {},
   "source": [
    "As expected, the instances of lab reference the high-security Wuhan lab again in a variety of permutations, from the military lab, Chinese lab, Wuhan lab, BSL-4 lab, many of which referring to the potential creation and escape of the virus from the lab. These all reference the lab-leak theory which seems to be the most popularly mentioned theory of the lot."
   ]
  },
  {
   "cell_type": "code",
   "execution_count": 21,
   "metadata": {
    "scrolled": true
   },
   "outputs": [
    {
     "name": "stdout",
     "output_type": "stream",
     "text": [
      "     refrain from purchasing unnecessary  military  equipment and upgrading our\n",
      "                       has to adjust its  military  capabilities and strategy in\n",
      "                  in response to china's  military  build-up under xi jinping's\n",
      "         announcement of modernising our  military  capability is for china\n",
      "                  media and also through  military  medical channels and high-level\n",
      "                     the covid files top  military  scientist has ties with\n",
      "                    the pla's academy of  military  medical sciences dr tu\n",
      "                     at the institute of  military  veterinary medicine of the\n",
      "                chinese pla's academy of  military  medical sciences tu changchun\n",
      "                     with the academy of  military  medical sciences often involves\n",
      "                  that come from animals  military  research the academy of\n",
      "                 research the academy of  military  sciences is the highest-level\n",
      "                       sure there are no  military  implications and in particular\n",
      "                    aussie link to china  military  lab china's people's liberation\n",
      "            liberation army's academy of  military  medical sciences to conduct\n",
      "                          to look at the  military  expansion by china you\n",
      "                         sea fiji got 47  military  vehicles to combat the\n",
      "                        more than 150 us  military  bases have suffered covid-19\n",
      "                      japan where the us  military  has declared a public\n",
      "                    warned of the rising  military  threat in the indo-pacific\n",
      "           developed by north vietnamese  military  leader nguygen giap followed\n",
      "              wuhan by visiting american  military  athletes or even on\n",
      "              oz-funded virus paper used  military  facility china's people's liberation\n",
      "            liberation army's academy of  military  medical sciences to conduct\n",
      "                    under the academy of  military  medical sciences the academy\n",
      "                 sciences the academy of  military  sciences is the highest-level\n",
      "                      is pictured in his  military  uniform and it states\n",
      "        of microbiology and epidemiology  military  medical science academy of\n",
      "                     with the academy of  military  science their involvement with\n",
      "              involvement of the chinese  military  it's clear that the\n",
      "                   with links to china's  military  or who are likely\n",
      "               does not prohibit chinese  military  scientists working on sensitive\n",
      "               designated the academy of  military  science very high risk\n",
      "           pla's premier institution for  military  science it is -responsible\n",
      "           for leading and co-ordinating  military  science for the whole\n",
      "                   science for the whole  military  --- dean pay's future\n",
      "                         each other in a  military  endurance course and earned\n",
      "                    the pla's academy of  military  medical sciences has a\n",
      "              wuhan for an international  military  athletics -competition and just\n",
      "                  warships and air force  military  aircraft plying their waters\n",
      "                         try and build a  military  base captain fanell said\n",
      "                circumstances but from a  military  perspective it would appear\n",
      "                      has accused the us  military  of introducing the virus\n",
      "                     top echelons of the  military  some time ago rank\n",
      "  national or international significance  military  and state funerals remembrance\n",
      "                    crushers and the 'ol  military  press next to timber\n",
      "                     the covid files top  military  scientist has ties with\n",
      "                    the pla's academy of  military  medical sciences dr tu\n",
      "                     at the institute of  military  veterinary medicine of the\n",
      "                chinese pla's academy of  military  medical sciences tu changchun\n",
      "                     with the academy of  military  medical sciences often involves\n",
      "                  that come from animals  military  research the academy of\n",
      "                 research the academy of  military  sciences is the highest-level\n",
      "                       sure there are no  military  implications and in particular\n",
      "              oz-funded virus paper used  military  facility china's people's liberation\n",
      "            liberation army's academy of  military  medical sciences to conduct\n",
      "                    under the academy of  military  medical sciences the academy\n",
      "                 sciences the academy of  military  sciences is the highest-level\n",
      "                      is pictured in his  military  uniform and it states\n",
      "        of microbiology and epidemiology  military  medical science academy of\n",
      "                     with the academy of  military  science their involvement with\n",
      "              involvement of the chinese  military  it's clear that the\n",
      "                   with links to china's  military  or who are likely\n",
      "               does not prohibit chinese  military  scientists working on sensitive\n",
      "               designated the academy of  military  science very high risk\n",
      "           pla's premier institution for  military  science it is -responsible\n",
      "           for leading and co-ordinating  military  science for the whole\n",
      "                   science for the whole  military  --- interim nrl chief\n",
      "                  warships and air force  military  aircraft plying their waters\n",
      "                         try and build a  military  base captain fanell said\n",
      "                circumstances but from a  military  perspective it would appear\n",
      "                        old world war ii  military  stronghold which rises some\n",
      "                       last year for the  military  world games according to\n",
      "             researchers and the chinese  military  need to be stopped\n",
      "            liberation army's academy of  military  medical sciences to conduct\n",
      "              being used for potentially  military  counter intelligence applications and\n",
      "                      has accused the us  military  of introducing the virus\n",
      "        near-sacred place of australia's  military  down a peg this\n",
      "              wuhan by visiting american  military  athletes or even on\n",
      "                    aussie link to china  military  lab china's people's liberation\n",
      "            liberation army's academy of  military  medical sciences to conduct\n",
      "        near-sacred place of australia's  military  down a peg this\n",
      "             researchers and the chinese  military  need to be stopped\n",
      "            liberation army's academy of  military  medical sciences to conduct\n",
      "                  put to for potentially  military  counter intelligence applications and\n"
     ]
    }
   ],
   "source": [
    "print_kwic(make_kwic('military',dt_comp_toks))"
   ]
  },
  {
   "cell_type": "code",
   "execution_count": 22,
   "metadata": {},
   "outputs": [
    {
     "name": "stdout",
     "output_type": "stream",
     "text": [
      "          that amplified covid-19 origin  conspiracy  theories and those that\n",
      "                 as a donald trump-style  conspiracy  theory when the daily\n",
      "                    to the pandemic with  conspiracy  theories and fake miracle\n",
      "                          the story as a  conspiracy  theory and -citing condemnations\n",
      "                   high and mighty about  conspiracy  theories recall that the\n",
      "               cash pushing the greatest  conspiracy  theory of all still\n",
      "               and russia have -targeted  conspiracy  narratives to shift the\n",
      "                    to the pandemic with  conspiracy  theories and fake miracle\n",
      "                media posts and -bizarre  conspiracy  theories as a friend\n",
      "                     again for pushing a  conspiracy  -theory that covid-19 came\n",
      "            obsession of popular youtube  conspiracy  theorist cum political commentator\n",
      "                      with a giant media  conspiracy  to shut him up\n",
      "                    zhao even pushed the  conspiracy  theory that the wuhan\n",
      "          that amplified covid-19 origin  conspiracy  theories and those that\n",
      "               though often dismissed as  conspiracy  mongering adherents to this\n",
      "                   according to dibb the  conspiracy  theory has been pushed\n",
      "                decision that will spark  conspiracy  theories from queensland the\n",
      "                          opus dei and a  conspiracy  to hide the truth\n",
      "               and russia have -targeted  conspiracy  narratives to shift the\n",
      "                 as a donald trump-style  conspiracy  theory when the daily\n",
      "               and is fuelling potential  conspiracy  theories about the virus\n",
      "                      become a haven for  conspiracy  theorists and other identities\n",
      "                         was closer to a  conspiracy  the who's -initial response\n"
     ]
    }
   ],
   "source": [
    "print_kwic(make_kwic('conspiracy',dt_comp_toks))"
   ]
  },
  {
   "cell_type": "markdown",
   "metadata": {},
   "source": [
    "Although the frequency of the word conspiracy is not as high as some of the other terms, it's amusing to see that the usage is quite different. Obviously there are mentions of the COVID-19 origin conspiracy theories, but there are also mentions of a Donald Trump-style conspiracy theory, a phrase not yet encountered."
   ]
  },
  {
   "cell_type": "code",
   "execution_count": 24,
   "metadata": {
    "scrolled": false
   },
   "outputs": [
    {
     "name": "stdout",
     "output_type": "stream",
     "text": [
      "                     an inquiry into the  origins  of covid-19 in return\n",
      "                   continue to probe the  origins  of the virus a\n",
      "               bottom of the -pandemic's  origins  --- cordner says players\n",
      "            independent inquiry into the  origins  and the handling of\n",
      "       investigation into the pandemic's  origins  is thorough and conclusive\n",
      "            independent inquiry into the  origins  of covid-19 chinese newspaper\n",
      "                 inquiry into the virus'  origins  is needed labor remains\n",
      "          reading sharri markson's virus  origins  story where it was\n",
      "            independent inquiry into the  origins  of the coronavirus crisis\n",
      "                  deflect blame over the  origins  of the virus wuhan\n",
      "            independent inquiry into the  origins  of the coronavirus it\n",
      "         thorough investigation into the  origins  of the covid-19 pandemic\n",
      "               an investigation into the  origins  of covid-19 the cancellation\n",
      "                     an inquiry into the  origins  of the coronavirus pandemic\n",
      "                     an inquiry into the  origins  of covid -19 which\n",
      "                  plaza outbreak has two  origins  one man and a\n",
      "                  a wuhan laboratory the  origins  of coronavirus and whether\n",
      "              independent probe into the  origins  of the covid-19 pandemic\n",
      "     individual neighbourhoods --- virus  origins  australia's former intelligence chief\n",
      "                     an inquiry into the  origins  of the coronavirus the\n",
      "                     attempt to hide its  origins  the officer said he\n",
      "                   global probe into the  origins  of the virus reveals\n",
      "                   global probe into the  origins  of the coronavirus the\n",
      "                   global probe into the  origins  of the covid-19 outbreak\n",
      "                   government - into the  origins  of the coronavirus in\n",
      "           enlighten themselves with the  origins  of the names of\n",
      "                   family to explore the  origins  of the sporting culinary\n",
      "           reference to covid's supposed  origins  the advertising standards bureau\n",
      "                     an inquiry into the  origins  of covid-19 former foreign\n",
      "             investigation of the virus'  origins  with mr trump reportedly\n",
      "                   global probe into the  origins  of the covid-19 outbreak\n",
      "                    for australia and 15  origins  with nsw revealed the\n",
      "     organisation team investigating the  origins  of covid-19 in china\n",
      "                 the leslie family whose  origins  were back in scotland\n",
      "                 hurried report into the  origins  of the coronavirus was\n",
      "              the theory that covid-19's  origins  lie behind the gates\n",
      "           team's investigation into the  origins  of covid-19 pandemic ---\n",
      "                    traced back to their  origins  to identify others unknowingly\n",
      "                    entire matter of the  origins  of the virus is\n",
      "                        to me: while the  origins  of the virus is\n",
      "            independent inquiry into the  origins  and outbreak of covid-19\n",
      "               proposed inquiry into the  origins  of the covid-19 virus\n",
      "                      the dark about the  origins  of the state's second-wave\n",
      "                    the inquiry into the  origins  of the covid-19 pandemic\n",
      "            independent inquiry into the  origins  of the virus but\n",
      "                   the -inquiry into the  origins  of the coronavirus he\n",
      "                  raise alarms about the  origins  of the virus back\n",
      "             independent review into the  origins  of the coronavirus hurt\n",
      "                    does not mention the  origins  of the coronavirus it\n",
      "          australian government into the  origins  of the coronavirus which\n",
      "                   the vocid files virus  origins  two chinese scientists -\n",
      "                    their probe into the  origins  of the global coronavirus\n",
      "    international investigation into the  origins  of the covid-19 outbreak\n",
      "                 the daily telegraph the  origins  of the outbreak need\n",
      "               dispassionate look at the  origins  of the epidemic he\n",
      "             independent review into the  origins  of covid-19 trade minister\n",
      "          international inquiry into the  origins  of covid-19 an investigation\n",
      "           to investigate the pandemic's  origins  as the possibility that\n",
      "               this theory of covid-19's  origins  has been dealt with\n",
      "            independent inquiry into the  origins  of the virus forrest\n",
      "               reporters about the virus  origins  that has not been\n",
      "              binge persona explores the  origins  of america's great obsession\n",
      "                        a probe into the  origins  of covid-19 - who\n",
      "                china to investigate the  origins  of the coronavirus pandemic\n",
      "                         not sure of its  origins  we are really concentrating\n",
      "          figured out? understanding the  origins  of the coronavirus pandemic\n",
      "                  and examination of the  origins  of covid-19 the morrison\n",
      "           payne yesterday confirmed the  origins  of the coronavirus pandemic\n",
      "            global probe into covid-19's  origins  --- cronulla had the\n",
      "                 the coronavirus and its  origins  - while still allowing\n",
      "                   world covering up its  origins  gaslighting those who raise\n",
      "        derail discussions of covid-19's  origins  in march zhao lijian\n",
      "                        a probe into the  origins  of the coronavirus with\n",
      "                 impossible to trace the  origins  of covid-19 despite a\n",
      "                   smoke and mirrors the  origins  of the virus are\n",
      "               an investigation into the  origins  of the coronavirus for\n",
      "                        run quiet on the  origins  of the corona-virus and\n",
      "              academic research into the  origins  of coronavirus will have\n",
      "                   all research into the  origins  of the virus were\n",
      "             legitimate inquiry into the  origins  of the coronavirus the\n",
      "            independent inquiry into the  origins  and outbreak of covid-19\n",
      "     organisation investigation into the  origins  of covid-19 - first\n",
      "                 probe into the pandemic  origins  us intelligence officials are\n",
      "international investigation of coronavirus's  origins  in wuhan now some\n",
      "                       a review into the  origins  of the crisis ---\n",
      "                temerity to question the  origins  of the covid-19 pandemic\n",
      "                  not actually about the  origins  of the virus it\n",
      "                    global review of the  origins  the actions and the\n",
      "                        a probe into the  origins  of covid-19 the laboratory\n",
      "                  a wuhan laboratory the  origins  of coronavirus and whether\n",
      "              captain james cook? humble  origins  while indigenous australians have\n",
      "            independent inquiry into the  origins  of covid-19 chinese newspaper\n",
      "        groundbreaking research into the  origins  of the virus flinders\n",
      "                humans to understand the  origins  of the virus -\n",
      "                     an inquiry into the  origins  of the coronavirus because\n",
      "                     an inquiry into the  origins  of covid-19 editorial p58\n",
      "            fittler after two successful  origins  misses the third he\n",
      "                     an inquiry into the  origins  of covid-19 and australia's\n",
      "                     that cleary wore in  origins  i and ii last\n",
      "              pin responsibility for the  origins  of the virus on\n",
      "               secretive response to the  origins  of the covid-19 pandemic\n",
      "            independent inquiry into the  origins  of the coronavirus it\n",
      "                    does not mention the  origins  of the coronavirus but\n",
      "               disproved theories on the  origins  spread and death rates\n",
      "                     an inquiry into the  origins  of covid-19 before successfully\n",
      "           an inquiry into coronavirus's  origins  would be dangerous adding:\n",
      "                  press reporting on the  origins  of the coronavirus violates\n",
      "           an inquiry into coronavirus's  origins  would be dangerous adding:\n",
      "                   the covid files virus  origins  two chinese scientists -\n",
      "                    their probe into the  origins  of the global coronavirus\n",
      "    international investigation into the  origins  of the covid-19 outbreak\n",
      "                 the daily telegraph the  origins  of the outbreak need\n",
      "               dispassionate look at the  origins  of the epidemic he\n",
      "                china to investigate the  origins  of covid-19 first detected\n",
      "              conclusive evidence on the  origins  of covid-19 who fails\n",
      "                  failed to discover the  origins  of coronavirus surprise surprise\n",
      "                     who report into the  origins  of covid-19 has rejected\n",
      "       investigation into the pandemic's  origins  this week made several\n",
      "                        a probe into the  origins  of covid-19 as intelligence\n",
      "                     an inquiry into the  origins  of covid-19 so wine\n",
      "                    for referring to the  origins  of the disease as\n",
      "            independent inquiry into the  origins  of covid-19 just confirm\n",
      "                     an inquiry into the  origins  of the coronavirus if\n",
      "            independent inquiry into the  origins  of covid-19 seriously pallas\n",
      "                    their probe into the  origins  of the global coronavirus\n",
      "                   global probe into the  origins  of the coronavirus the\n",
      "          australian government into the  origins  of the coronavirus which\n",
      "                      the dark about the  origins  of the state's second-wave\n",
      "               an investigation into the  origins  of the virus despite\n",
      "               referring to the -chinese  origins  of the disease? if\n",
      "                     to the virus's real  origins  despite the hysterical reaction\n",
      "            any references to covid-19's  origins  much of the us\n",
      "                    their probe into the  origins  of the global coronavirus\n",
      "          international inquiry into the  origins  of covid-19 mr cheng\n",
      "             legitimate inquiry into the  origins  of the coronavirus the\n",
      "           -independent inquiry into the  origins  of covid-19full report page\n",
      "                      almost 50 state of  origins  and so many games\n"
     ]
    },
    {
     "name": "stdout",
     "output_type": "stream",
     "text": [
      "              spread from its quarantine  origins  neal and the inquiry\n",
      "                 struggling to trace the  origins  in australia companies including\n",
      "                      for 50 years their  origins  and evolution prove to\n",
      "          australian government into the  origins  of the coronavirus which\n",
      "                 probe into the pandemic  origins  us intelligence officials are\n",
      "                    traced back to their  origins  to identify others unknowingly\n",
      "                 an investigation of the  origins  of the covid-19 pandemic\n",
      "           team's investigation into the  origins  of covid-19 pandemic the\n",
      "                 hurried report into the  origins  of the coronavirus was\n",
      "              the theory that covid-19's  origins  lie behind the gates\n",
      "                         it comes to the  origins  of covid-19 the question\n",
      "                 an investigation of the  origins  of the wuhan virus\n",
      "              for investigation into the  origins  of covid-19 and that\n",
      "                reality of the disease's  origins  so why not china\n",
      "          international inquiry into the  origins  of coronavirus while claiming\n",
      "               inside to investigate the  origins  of covid-19 francesco zambon\n",
      "            baffling puzzle of cluster's  origins  28/12 congratulations to the\n",
      "                   government - into the  origins  of the coronavirus in\n",
      "                 an investigation of the  origins  of the covid-19 pandemic\n",
      "                   global probe into the  origins  of the covid-19 outbreak\n",
      "          australian government into the  origins  of the coronavirus which\n",
      "                     to inquire into the  origins  of the outbreak in\n",
      "           -independent inquiry into the  origins  of covid-19 which australian\n",
      "                   early report into the  origins  of covid-19 and is\n",
      "                  key to discovering the  origins  of covid-19 is to\n",
      "                 impossible to trace the  origins  of covid-19 despite a\n",
      "     investigation into covid-19's wuhan  origins  china hit australia with\n",
      "        groundbreaking research into the  origins  of the virus flinders\n",
      "                humans to understand the  origins  of the virus -\n",
      "             odds with their traditional  origins  and many of their\n",
      "                  and examination of the  origins  of covid-19 the morrison\n",
      "              health organisation on the  origins  of covid-19 does little\n",
      "                  deflect blame over the  origins  of the virus wuhan\n",
      "            independent inquiry into the  origins  of the coronavirus it\n",
      "                     an inquiry into the  origins  of covid-19 full report\n",
      "            investigation of the virus's  origins  asking for information on\n",
      "      independent investigation into the  origins  of covid-19 everything would\n",
      "                       shut up about the  origins  of covid-19 simple not\n",
      "                     an inquiry into the  origins  of coronavirus without first\n"
     ]
    }
   ],
   "source": [
    "print_kwic(make_kwic('origins',dt_comp_toks))"
   ]
  },
  {
   "cell_type": "markdown",
   "metadata": {},
   "source": [
    "Nothing too surprising here, with a lot of mentions of the inquiry, investigation, research, and probing of the origins. Some interesting ones include \"deflecting blame\" and a seeming heavy emphasis on the international nature of the investigation which is more explicit than with the China Daily and NY Times."
   ]
  },
  {
   "cell_type": "code",
   "execution_count": 25,
   "metadata": {
    "scrolled": true
   },
   "outputs": [
    {
     "name": "stdout",
     "output_type": "stream",
     "text": [
      "                left-wing has shown some  transparency  on this subject if\n",
      "            its assault on international  transparency  as it sought to\n",
      "                 marise payne inset said  transparency  - particularly from the\n",
      "                    and death rates lack  transparency  â– china not counting\n",
      "                    a shake-up to ensure  transparency  the 16 clubs should\n",
      "                         that we get the  transparency  that the world gets\n",
      "                      the world gets the  transparency  it needs mr pompeo\n",
      "                   are simply asking for  transparency  and co-operation the australian\n",
      "                   support the calls for  transparency  and accountability from australia\n",
      "             an assault on international  transparency  and to the endangerment\n",
      "                            - we get the  transparency  that the world gets\n",
      "                      the world gets the  transparency  it needs mr pompeo\n",
      "                   about china's lack of  transparency  over covid-19 is overaah\n",
      "             an assault on international  transparency  and to the endangerment-\n",
      "            its assault on international  transparency  as it sought to\n",
      "                 is not australia values  transparency  china does not and\n",
      "            criticism and -opposition to  transparency  will be a recurring\n",
      "   whistleblowers tedros praised chinese  transparency  on january 14 the\n",
      "               highlighted an allergy to  transparency  which australia was right\n",
      "                       and an allergy to  transparency  he said --- job\n",
      "                   are simply asking for  transparency  and co-operation the australian\n",
      "                   support the calls for  transparency  and accountability from australia\n",
      "             an assault on international  transparency  that cost tens of\n",
      "             an assault on international  transparency  as eu diplomats prepare\n",
      "                         to us calls for  transparency  chair of australia's joint\n",
      "                  china the world needed  transparency  and an inquiry so\n",
      "                 face he praised china's  transparency  while claiming the virus'\n",
      "                said he defended china's  transparency  in sharing the make-up\n",
      "               courts to deliver greater  transparency  and accountability given the\n",
      "              pushing for more financial  transparency  which v'landys has promised\n"
     ]
    }
   ],
   "source": [
    "print_kwic(make_kwic('transparency',dt_comp_toks))"
   ]
  },
  {
   "cell_type": "markdown",
   "metadata": {},
   "source": [
    "Here we see somewhat of a confusing mixture regarding the transparency topic. There are some instances of China's lack of transparency, but other instances of quoting people who praise China's transparency."
   ]
  },
  {
   "cell_type": "code",
   "execution_count": 27,
   "metadata": {
    "scrolled": true
   },
   "outputs": [
    {
     "name": "stdout",
     "output_type": "stream",
     "text": [
      "                    evidence for the lab  theory  by the day it's\n",
      "                  china lab virus origin  theory  could be wmd 20\n",
      "               institute of virology the  theory  is being investigated by\n",
      "                   undue emphasis on the  theory  the virus originated in\n",
      "               share which supported the  theory  the coronavirus was an\n",
      "                   undue emphasis on the  theory  the virus originated in\n",
      "               share which supported the  theory  the coronavirus was an\n",
      "                 evidence to support the  theory  that the origin was\n",
      "               unknown animal source the  theory  that the virus may\n",
      "                    the who's report the  theory  that covid-19's origins lie\n",
      "         a donald trump-style conspiracy  theory  when the daily telegraph\n",
      "            experts have discredited the  theory  the world health organisation\n",
      "               said referring to another  theory  the virus was transmitted\n",
      "              agreed with donald trump's  theory  the virus came from\n",
      "                   lends credence to the  theory  that the virus may\n",
      "                        at just how this  theory  of covid-19's origins has\n",
      "                   story as a conspiracy  theory  and -citing condemnations of\n",
      "         pushing the greatest conspiracy  theory  of all still taken\n",
      "                     key findings â– lab  theory  'extremely unlikely' â– huanan\n",
      "                   uneasy about us virus  theory  the australian government and\n",
      "                   undue emphasis on the  theory  the virus originated in\n",
      "               share which supported the  theory  the coronavirus was an\n",
      "                  zhao was pressing that  theory  without approval from on\n",
      "              even pushed the conspiracy  theory  that the wuhan coronavirus\n",
      "                  to dibb the conspiracy  theory  has been pushed by\n",
      "               unknown animal source the  theory  that the virus may\n",
      "                    the who's report the  theory  that covid-19's origins lie\n",
      "         a donald trump-style conspiracy  theory  when the daily telegraph\n",
      "                     key findings â– lab  theory  'extremely unlikely' â– huanan\n"
     ]
    }
   ],
   "source": [
    "print_kwic(make_kwic('theory',dt_comp_toks))"
   ]
  },
  {
   "cell_type": "markdown",
   "metadata": {},
   "source": [
    "Observations:\n",
    "Interestingly, unlike with the China Daily and NY Times where theory was largely preceded by \"conspiracy\", here we see that is not always the case. Instead the specific theories are elucidated following the word, although again we see the \"Donald Trump-style conspiracy\" notion again."
   ]
  },
  {
   "cell_type": "markdown",
   "metadata": {},
   "source": [
    "#### Additional code for me"
   ]
  },
  {
   "cell_type": "code",
   "execution_count": 48,
   "metadata": {
    "scrolled": true
   },
   "outputs": [],
   "source": [
    "# select texts with specific origin terms\n",
    "origin_txt_dt=[]\n",
    "for word in origin_terms:\n",
    "    for article in dt_corp:\n",
    "        if article in origin_txt_dt:\n",
    "            continue\n",
    "        elif article['tokens'].count(word)>0:\n",
    "            origin_txt_dt.append(article)"
   ]
  },
  {
   "cell_type": "code",
   "execution_count": 49,
   "metadata": {},
   "outputs": [
    {
     "data": {
      "text/plain": [
       "195"
      ]
     },
     "execution_count": 49,
     "metadata": {},
     "output_type": "execute_result"
    }
   ],
   "source": [
    "# number of texts narrowed down\n",
    "len(origin_txt_dt)"
   ]
  },
  {
   "cell_type": "code",
   "execution_count": 51,
   "metadata": {},
   "outputs": [
    {
     "data": {
      "text/plain": [
       "46.99"
      ]
     },
     "execution_count": 51,
     "metadata": {},
     "output_type": "execute_result"
    }
   ],
   "source": [
    "# percentage of all dt_texts\n",
    "round(len(origin_txt_dt)/len(dt_corp)*100,2)"
   ]
  },
  {
   "cell_type": "code",
   "execution_count": 52,
   "metadata": {},
   "outputs": [],
   "source": [
    "# write out as doc\n",
    "terms_only_txt=[]\n",
    "for article in origin_txt_dt:\n",
    "    terms_only_txt.append(article['text'])\n",
    "    \n",
    "terms_only_doc = '\\n---\\n'.join(terms_only_txt)\n",
    "with open('../data/text/daily_telegraph/dt_terms_only_texts.txt','w') as out:\n",
    "    out.write(terms_only_doc)"
   ]
  }
 ],
 "metadata": {
  "kernelspec": {
   "display_name": "Python 3",
   "language": "python",
   "name": "python3"
  },
  "language_info": {
   "codemirror_mode": {
    "name": "ipython",
    "version": 3
   },
   "file_extension": ".py",
   "mimetype": "text/x-python",
   "name": "python",
   "nbconvert_exporter": "python",
   "pygments_lexer": "ipython3",
   "version": "3.7.3"
  }
 },
 "nbformat": 4,
 "nbformat_minor": 2
}
