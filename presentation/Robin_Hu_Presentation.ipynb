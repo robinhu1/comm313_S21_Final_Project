{
 "cells": [
  {
   "cell_type": "markdown",
   "metadata": {
    "slideshow": {
     "slide_type": "slide"
    }
   },
   "source": [
    "<img src=\"origins.png\" style=\"float: center\" />"
   ]
  },
  {
   "cell_type": "markdown",
   "metadata": {
    "slideshow": {
     "slide_type": "slide"
    }
   },
   "source": [
    "# Background, RQ, Data\n",
    "\n",
    "<img src=\"background.png\" style=\"float: center\" />\n",
    "\n",
    "**RQ: Are there differences between news sources representing different countries regarding COVID-19 origins and conspiracies?**\n",
    "\n",
    "- Timeline of publications?\n",
    "- Language employed?\n",
    "\n",
    "**Hypothesis : Yes, yes, and yes!**\n",
    "\n",
    "\n",
    "**Data: Lexis Nexis Bulk Data Download**\n",
    "- 'COVID-19' AND 'origins'\n",
    "- All news publications in English after Jan 2019 \n",
    "- Five selected sources: China Daily (32), New York Times (550), The Guardian (952), The Daily Telegraph (415), Hindustan Times (655)"
   ]
  },
  {
   "cell_type": "markdown",
   "metadata": {
    "slideshow": {
     "slide_type": "slide"
    }
   },
   "source": [
    "# Analysis and Results\n",
    "\n",
    "- Freq Analysis & KWIC Analysis\n",
    "- Variation between sources\n",
    "- Within each source, variation in frequency of specific words\n",
    "- Certain words are not mentioned at all in some sources:\n",
    " - 'bioweapon'(NYT,Guardian); 'cold-chain'(Guardian, Hindustan Times); 'detrick' (China Daily, Guardian, Hindustan Times)"
   ]
  },
  {
   "cell_type": "markdown",
   "metadata": {
    "slideshow": {
     "slide_type": "subslide"
    }
   },
   "source": [
    "<img src=\"timeline.png\" style=\"float: center\" />"
   ]
  },
  {
   "cell_type": "markdown",
   "metadata": {
    "slideshow": {
     "slide_type": "subslide"
    }
   },
   "source": [
    "<img src=\"table.png\" style=\"float: center\" />\n",
    "<img src=\"graph.png\" style=\"float: center\" />"
   ]
  },
  {
   "cell_type": "markdown",
   "metadata": {
    "slideshow": {
     "slide_type": "subslide"
    }
   },
   "source": [
    "<img src=\"cd_kwic.png\" style=\"float: center\" />\n",
    "<img src=\"nyt_kwic.png\" style=\"float: center\" />"
   ]
  },
  {
   "cell_type": "markdown",
   "metadata": {
    "slideshow": {
     "slide_type": "slide"
    }
   },
   "source": [
    "# Next Steps and Plans\n",
    "\n",
    "- Frequency by # of articles, not just word frequencies\n",
    "- Collocation analysis\n",
    "- Sentiment analysis\n",
    "- #Plandemic?"
   ]
  }
 ],
 "metadata": {
  "celltoolbar": "Slideshow",
  "kernelspec": {
   "display_name": "Python 3",
   "language": "python",
   "name": "python3"
  },
  "language_info": {
   "codemirror_mode": {
    "name": "ipython",
    "version": 3
   },
   "file_extension": ".py",
   "mimetype": "text/x-python",
   "name": "python",
   "nbconvert_exporter": "python",
   "pygments_lexer": "ipython3",
   "version": "3.7.3"
  }
 },
 "nbformat": 4,
 "nbformat_minor": 2
}
